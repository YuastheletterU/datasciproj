{
 "cells": [
  {
   "cell_type": "code",
   "execution_count": 3,
   "id": "4a560ec0",
   "metadata": {},
   "outputs": [],
   "source": [
    "#load s140 datasets"
   ]
  },
  {
   "cell_type": "code",
   "execution_count": 17,
   "id": "3aac1a05",
   "metadata": {},
   "outputs": [],
   "source": [
    "import numpy as np"
   ]
  },
  {
   "cell_type": "code",
   "execution_count": 10,
   "id": "695cc25a",
   "metadata": {},
   "outputs": [],
   "source": [
    "import os"
   ]
  },
  {
   "cell_type": "code",
   "execution_count": 16,
   "id": "7e11ee49",
   "metadata": {},
   "outputs": [],
   "source": [
    "import string"
   ]
  },
  {
   "cell_type": "code",
   "execution_count": 15,
   "id": "12241329",
   "metadata": {},
   "outputs": [],
   "source": [
    "import pandas as pd"
   ]
  },
  {
   "cell_type": "code",
   "execution_count": 1,
   "id": "cc43b904",
   "metadata": {},
   "outputs": [
    {
     "name": "stdout",
     "output_type": "stream",
     "text": [
      "Device available for running: \n",
      "cpu\n"
     ]
    }
   ],
   "source": [
    "import torch.nn as nn\n",
    "import torch.nn.functional as F\n",
    "import torch.optim as optim\n",
    "\n",
    "import torch\n",
    "# Use cuda if present\n",
    "device = torch.device(\"cuda\" if torch.cuda.is_available() else \"cpu\")\n",
    "print(\"Device available for running: \")\n",
    "print(device)"
   ]
  },
  {
   "cell_type": "code",
   "execution_count": 14,
   "id": "331a313b",
   "metadata": {},
   "outputs": [],
   "source": [
    "from keras.callbacks import ModelCheckpoint\n",
    "from keras.layers import Dense, Dropout, Reshape, Flatten, concatenate, Input, Conv1D, GlobalMaxPooling1D, Embedding\n",
    "from keras.layers.recurrent import LSTM\n",
    "from keras.models import Sequential\n",
    "from keras.preprocessing.text import Tokenizer\n",
    "from keras.preprocessing.sequence import pad_sequences\n",
    "from keras.models import Model"
   ]
  },
  {
   "cell_type": "code",
   "execution_count": 9,
   "id": "5dac75df",
   "metadata": {
    "scrolled": true
   },
   "outputs": [
    {
     "data": {
      "text/html": [
       "<div>\n",
       "<style scoped>\n",
       "    .dataframe tbody tr th:only-of-type {\n",
       "        vertical-align: middle;\n",
       "    }\n",
       "\n",
       "    .dataframe tbody tr th {\n",
       "        vertical-align: top;\n",
       "    }\n",
       "\n",
       "    .dataframe thead th {\n",
       "        text-align: right;\n",
       "    }\n",
       "</style>\n",
       "<table border=\"1\" class=\"dataframe\">\n",
       "  <thead>\n",
       "    <tr style=\"text-align: right;\">\n",
       "      <th></th>\n",
       "      <th>Sentiment</th>\n",
       "      <th>Tweet</th>\n",
       "    </tr>\n",
       "  </thead>\n",
       "  <tbody>\n",
       "    <tr>\n",
       "      <th>0</th>\n",
       "      <td>0</td>\n",
       "      <td>@switchfoot http://twitpic.com/2y1zl - Awww, t...</td>\n",
       "    </tr>\n",
       "    <tr>\n",
       "      <th>1</th>\n",
       "      <td>0</td>\n",
       "      <td>is upset that he can't update his Facebook by ...</td>\n",
       "    </tr>\n",
       "    <tr>\n",
       "      <th>2</th>\n",
       "      <td>0</td>\n",
       "      <td>@Kenichan I dived many times for the ball. Man...</td>\n",
       "    </tr>\n",
       "    <tr>\n",
       "      <th>3</th>\n",
       "      <td>0</td>\n",
       "      <td>my whole body feels itchy and like its on fire</td>\n",
       "    </tr>\n",
       "    <tr>\n",
       "      <th>4</th>\n",
       "      <td>0</td>\n",
       "      <td>@nationwideclass no, it's not behaving at all....</td>\n",
       "    </tr>\n",
       "  </tbody>\n",
       "</table>\n",
       "</div>"
      ],
      "text/plain": [
       "   Sentiment                                              Tweet\n",
       "0          0  @switchfoot http://twitpic.com/2y1zl - Awww, t...\n",
       "1          0  is upset that he can't update his Facebook by ...\n",
       "2          0  @Kenichan I dived many times for the ball. Man...\n",
       "3          0    my whole body feels itchy and like its on fire \n",
       "4          0  @nationwideclass no, it's not behaving at all...."
      ]
     },
     "execution_count": 9,
     "metadata": {},
     "output_type": "execute_result"
    }
   ],
   "source": [
    "columns = ['Sentiment','Tweet_id','Date','Query','Username','Tweet']\n",
    "df = pd.read_csv(r\"s140_train.csv\", names = columns, encoding=\"latin-1\")\n",
    "df = df.drop(['Tweet_id','Date','Query','Username'],axis =1)\n",
    "df.head()"
   ]
  },
  {
   "cell_type": "code",
   "execution_count": 10,
   "id": "d34388a2",
   "metadata": {
    "scrolled": true
   },
   "outputs": [
    {
     "name": "stdout",
     "output_type": "stream",
     "text": [
      "<class 'pandas.core.frame.DataFrame'>\n",
      "RangeIndex: 1600000 entries, 0 to 1599999\n",
      "Data columns (total 2 columns):\n",
      " #   Column     Non-Null Count    Dtype \n",
      "---  ------     --------------    ----- \n",
      " 0   Sentiment  1600000 non-null  int64 \n",
      " 1   Tweet      1600000 non-null  object\n",
      "dtypes: int64(1), object(1)\n",
      "memory usage: 24.4+ MB\n"
     ]
    }
   ],
   "source": [
    "df.info()"
   ]
  },
  {
   "cell_type": "code",
   "execution_count": 11,
   "id": "602a8ffb",
   "metadata": {},
   "outputs": [],
   "source": [
    "#take 5% data from the original dataset\n",
    "s140_train = df.sample(frac = 0.05, random_state=1)"
   ]
  },
  {
   "cell_type": "code",
   "execution_count": 12,
   "id": "247567d6",
   "metadata": {},
   "outputs": [
    {
     "data": {
      "text/html": [
       "<div>\n",
       "<style scoped>\n",
       "    .dataframe tbody tr th:only-of-type {\n",
       "        vertical-align: middle;\n",
       "    }\n",
       "\n",
       "    .dataframe tbody tr th {\n",
       "        vertical-align: top;\n",
       "    }\n",
       "\n",
       "    .dataframe thead th {\n",
       "        text-align: right;\n",
       "    }\n",
       "</style>\n",
       "<table border=\"1\" class=\"dataframe\">\n",
       "  <thead>\n",
       "    <tr style=\"text-align: right;\">\n",
       "      <th></th>\n",
       "      <th>Tweet</th>\n",
       "    </tr>\n",
       "    <tr>\n",
       "      <th>Sentiment</th>\n",
       "      <th></th>\n",
       "    </tr>\n",
       "  </thead>\n",
       "  <tbody>\n",
       "    <tr>\n",
       "      <th>0</th>\n",
       "      <td>i miss nikki nu nu already  shes always there ...</td>\n",
       "    </tr>\n",
       "    <tr>\n",
       "      <th>4</th>\n",
       "      <td>@macintom site doesn't seem to want to load up...</td>\n",
       "    </tr>\n",
       "  </tbody>\n",
       "</table>\n",
       "</div>"
      ],
      "text/plain": [
       "                                                       Tweet\n",
       "Sentiment                                                   \n",
       "0          i miss nikki nu nu already  shes always there ...\n",
       "4          @macintom site doesn't seem to want to load up..."
      ]
     },
     "execution_count": 12,
     "metadata": {},
     "output_type": "execute_result"
    }
   ],
   "source": [
    "s140_train.groupby(by=\"Sentiment\").sum()"
   ]
  },
  {
   "cell_type": "code",
   "execution_count": 13,
   "id": "5f6a4206",
   "metadata": {
    "scrolled": false
   },
   "outputs": [
    {
     "data": {
      "text/html": [
       "<div>\n",
       "<style scoped>\n",
       "    .dataframe tbody tr th:only-of-type {\n",
       "        vertical-align: middle;\n",
       "    }\n",
       "\n",
       "    .dataframe tbody tr th {\n",
       "        vertical-align: top;\n",
       "    }\n",
       "\n",
       "    .dataframe thead th {\n",
       "        text-align: right;\n",
       "    }\n",
       "</style>\n",
       "<table border=\"1\" class=\"dataframe\">\n",
       "  <thead>\n",
       "    <tr style=\"text-align: right;\">\n",
       "      <th></th>\n",
       "      <th>Sentiment</th>\n",
       "      <th>Tweet</th>\n",
       "    </tr>\n",
       "  </thead>\n",
       "  <tbody>\n",
       "    <tr>\n",
       "      <th>0</th>\n",
       "      <td>4</td>\n",
       "      <td>@stellargirl I loooooooovvvvvveee my Kindle2. ...</td>\n",
       "    </tr>\n",
       "    <tr>\n",
       "      <th>1</th>\n",
       "      <td>4</td>\n",
       "      <td>Reading my kindle2...  Love it... Lee childs i...</td>\n",
       "    </tr>\n",
       "    <tr>\n",
       "      <th>2</th>\n",
       "      <td>4</td>\n",
       "      <td>Ok, first assesment of the #kindle2 ...it fuck...</td>\n",
       "    </tr>\n",
       "    <tr>\n",
       "      <th>3</th>\n",
       "      <td>4</td>\n",
       "      <td>@kenburbary You'll love your Kindle2. I've had...</td>\n",
       "    </tr>\n",
       "    <tr>\n",
       "      <th>4</th>\n",
       "      <td>4</td>\n",
       "      <td>@mikefish  Fair enough. But i have the Kindle2...</td>\n",
       "    </tr>\n",
       "  </tbody>\n",
       "</table>\n",
       "</div>"
      ],
      "text/plain": [
       "   Sentiment                                              Tweet\n",
       "0          4  @stellargirl I loooooooovvvvvveee my Kindle2. ...\n",
       "1          4  Reading my kindle2...  Love it... Lee childs i...\n",
       "2          4  Ok, first assesment of the #kindle2 ...it fuck...\n",
       "3          4  @kenburbary You'll love your Kindle2. I've had...\n",
       "4          4  @mikefish  Fair enough. But i have the Kindle2..."
      ]
     },
     "execution_count": 13,
     "metadata": {},
     "output_type": "execute_result"
    }
   ],
   "source": [
    "s140_test = pd.read_csv(r\"s140_test.csv\", names = columns)\n",
    "s140_test = s140_test.drop(['Tweet_id','Date','Query','Username'],axis =1)\n",
    "s140_test.head()"
   ]
  },
  {
   "cell_type": "code",
   "execution_count": 14,
   "id": "cabc67a0",
   "metadata": {},
   "outputs": [
    {
     "name": "stdout",
     "output_type": "stream",
     "text": [
      "<class 'pandas.core.frame.DataFrame'>\n",
      "RangeIndex: 498 entries, 0 to 497\n",
      "Data columns (total 2 columns):\n",
      " #   Column     Non-Null Count  Dtype \n",
      "---  ------     --------------  ----- \n",
      " 0   Sentiment  498 non-null    int64 \n",
      " 1   Tweet      498 non-null    object\n",
      "dtypes: int64(1), object(1)\n",
      "memory usage: 7.9+ KB\n"
     ]
    }
   ],
   "source": [
    "s140_test.info()"
   ]
  },
  {
   "cell_type": "code",
   "execution_count": 15,
   "id": "6737afbb",
   "metadata": {},
   "outputs": [
    {
     "data": {
      "text/html": [
       "<div>\n",
       "<style scoped>\n",
       "    .dataframe tbody tr th:only-of-type {\n",
       "        vertical-align: middle;\n",
       "    }\n",
       "\n",
       "    .dataframe tbody tr th {\n",
       "        vertical-align: top;\n",
       "    }\n",
       "\n",
       "    .dataframe thead th {\n",
       "        text-align: right;\n",
       "    }\n",
       "</style>\n",
       "<table border=\"1\" class=\"dataframe\">\n",
       "  <thead>\n",
       "    <tr style=\"text-align: right;\">\n",
       "      <th></th>\n",
       "      <th>Tweet</th>\n",
       "    </tr>\n",
       "    <tr>\n",
       "      <th>Sentiment</th>\n",
       "      <th></th>\n",
       "    </tr>\n",
       "  </thead>\n",
       "  <tbody>\n",
       "    <tr>\n",
       "      <th>0</th>\n",
       "      <td>Fuck this economy. I hate aig and their non lo...</td>\n",
       "    </tr>\n",
       "    <tr>\n",
       "      <th>2</th>\n",
       "      <td>Check this video out -- President Obama at the...</td>\n",
       "    </tr>\n",
       "    <tr>\n",
       "      <th>4</th>\n",
       "      <td>@stellargirl I loooooooovvvvvveee my Kindle2. ...</td>\n",
       "    </tr>\n",
       "  </tbody>\n",
       "</table>\n",
       "</div>"
      ],
      "text/plain": [
       "                                                       Tweet\n",
       "Sentiment                                                   \n",
       "0          Fuck this economy. I hate aig and their non lo...\n",
       "2          Check this video out -- President Obama at the...\n",
       "4          @stellargirl I loooooooovvvvvveee my Kindle2. ..."
      ]
     },
     "execution_count": 15,
     "metadata": {},
     "output_type": "execute_result"
    }
   ],
   "source": [
    "s140_test.groupby(by=\"Sentiment\").sum()"
   ]
  },
  {
   "cell_type": "code",
   "execution_count": 16,
   "id": "0539108e",
   "metadata": {},
   "outputs": [],
   "source": [
    "#load rtmr datasets"
   ]
  },
  {
   "cell_type": "code",
   "execution_count": 18,
   "id": "67aca33d",
   "metadata": {
    "scrolled": false
   },
   "outputs": [
    {
     "data": {
      "text/html": [
       "<div>\n",
       "<style scoped>\n",
       "    .dataframe tbody tr th:only-of-type {\n",
       "        vertical-align: middle;\n",
       "    }\n",
       "\n",
       "    .dataframe tbody tr th {\n",
       "        vertical-align: top;\n",
       "    }\n",
       "\n",
       "    .dataframe thead th {\n",
       "        text-align: right;\n",
       "    }\n",
       "</style>\n",
       "<table border=\"1\" class=\"dataframe\">\n",
       "  <thead>\n",
       "    <tr style=\"text-align: right;\">\n",
       "      <th></th>\n",
       "      <th>PhraseId</th>\n",
       "      <th>SentenceId</th>\n",
       "      <th>Phrase</th>\n",
       "      <th>Sentiment</th>\n",
       "    </tr>\n",
       "  </thead>\n",
       "  <tbody>\n",
       "    <tr>\n",
       "      <th>0</th>\n",
       "      <td>84400</td>\n",
       "      <td>4366</td>\n",
       "      <td>seen before from Murphy</td>\n",
       "      <td>2</td>\n",
       "    </tr>\n",
       "    <tr>\n",
       "      <th>1</th>\n",
       "      <td>45439</td>\n",
       "      <td>2208</td>\n",
       "      <td>exoticism</td>\n",
       "      <td>2</td>\n",
       "    </tr>\n",
       "    <tr>\n",
       "      <th>2</th>\n",
       "      <td>83575</td>\n",
       "      <td>4319</td>\n",
       "      <td>of the script</td>\n",
       "      <td>2</td>\n",
       "    </tr>\n",
       "    <tr>\n",
       "      <th>3</th>\n",
       "      <td>31453</td>\n",
       "      <td>1472</td>\n",
       "      <td>I had expected</td>\n",
       "      <td>2</td>\n",
       "    </tr>\n",
       "    <tr>\n",
       "      <th>4</th>\n",
       "      <td>79783</td>\n",
       "      <td>4111</td>\n",
       "      <td>A standard police-oriented drama that , were i...</td>\n",
       "      <td>1</td>\n",
       "    </tr>\n",
       "  </tbody>\n",
       "</table>\n",
       "</div>"
      ],
      "text/plain": [
       "   PhraseId  SentenceId                                             Phrase  \\\n",
       "0     84400        4366                            seen before from Murphy   \n",
       "1     45439        2208                                          exoticism   \n",
       "2     83575        4319                                      of the script   \n",
       "3     31453        1472                                     I had expected   \n",
       "4     79783        4111  A standard police-oriented drama that , were i...   \n",
       "\n",
       "   Sentiment  \n",
       "0          2  \n",
       "1          2  \n",
       "2          2  \n",
       "3          2  \n",
       "4          1  "
      ]
     },
     "execution_count": 18,
     "metadata": {},
     "output_type": "execute_result"
    }
   ],
   "source": [
    "rtmr_training = pd.read_csv(\"rtmr_train.tsv\",sep='\\t')\n",
    "rtmr_training.head()"
   ]
  },
  {
   "cell_type": "code",
   "execution_count": 19,
   "id": "b1ad8c02",
   "metadata": {
    "scrolled": true
   },
   "outputs": [
    {
     "name": "stdout",
     "output_type": "stream",
     "text": [
      "<class 'pandas.core.frame.DataFrame'>\n",
      "RangeIndex: 148256 entries, 0 to 148255\n",
      "Data columns (total 2 columns):\n",
      " #   Column     Non-Null Count   Dtype \n",
      "---  ------     --------------   ----- \n",
      " 0   Phrase     148256 non-null  object\n",
      " 1   Sentiment  148256 non-null  int64 \n",
      "dtypes: int64(1), object(1)\n",
      "memory usage: 2.3+ MB\n"
     ]
    }
   ],
   "source": [
    "rtmr_training = rtmr_training.drop(['PhraseId','SentenceId'], axis =1)\n",
    "rtmr_training.info()"
   ]
  },
  {
   "cell_type": "code",
   "execution_count": 20,
   "id": "e7ec8d36",
   "metadata": {},
   "outputs": [],
   "source": [
    "#group classes 1 and 3 so that the rtmr datasets will have same classed as s140 test dataset\n",
    "rtmr_train = rtmr_training.replace([1,3], [0,4])"
   ]
  },
  {
   "cell_type": "code",
   "execution_count": 21,
   "id": "2660ced1",
   "metadata": {},
   "outputs": [
    {
     "data": {
      "text/html": [
       "<div>\n",
       "<style scoped>\n",
       "    .dataframe tbody tr th:only-of-type {\n",
       "        vertical-align: middle;\n",
       "    }\n",
       "\n",
       "    .dataframe tbody tr th {\n",
       "        vertical-align: top;\n",
       "    }\n",
       "\n",
       "    .dataframe thead th {\n",
       "        text-align: right;\n",
       "    }\n",
       "</style>\n",
       "<table border=\"1\" class=\"dataframe\">\n",
       "  <thead>\n",
       "    <tr style=\"text-align: right;\">\n",
       "      <th></th>\n",
       "      <th>Phrase</th>\n",
       "    </tr>\n",
       "    <tr>\n",
       "      <th>Sentiment</th>\n",
       "      <th></th>\n",
       "    </tr>\n",
       "  </thead>\n",
       "  <tbody>\n",
       "    <tr>\n",
       "      <th>0</th>\n",
       "      <td>A standard police-oriented drama that , were i...</td>\n",
       "    </tr>\n",
       "    <tr>\n",
       "      <th>2</th>\n",
       "      <td>seen before from Murphyexoticismof the scriptI...</td>\n",
       "    </tr>\n",
       "    <tr>\n",
       "      <th>4</th>\n",
       "      <td>is just such an achievementconceivablebe an ef...</td>\n",
       "    </tr>\n",
       "  </tbody>\n",
       "</table>\n",
       "</div>"
      ],
      "text/plain": [
       "                                                      Phrase\n",
       "Sentiment                                                   \n",
       "0          A standard police-oriented drama that , were i...\n",
       "2          seen before from Murphyexoticismof the scriptI...\n",
       "4          is just such an achievementconceivablebe an ef..."
      ]
     },
     "execution_count": 21,
     "metadata": {},
     "output_type": "execute_result"
    }
   ],
   "source": [
    "rtmr_train.groupby(by=[\"Sentiment\"]).sum()"
   ]
  },
  {
   "cell_type": "code",
   "execution_count": 22,
   "id": "d5e3b3f1",
   "metadata": {
    "scrolled": false
   },
   "outputs": [
    {
     "name": "stdout",
     "output_type": "stream",
     "text": [
      "<class 'pandas.core.frame.DataFrame'>\n",
      "RangeIndex: 7803 entries, 0 to 7802\n",
      "Data columns (total 2 columns):\n",
      " #   Column     Non-Null Count  Dtype \n",
      "---  ------     --------------  ----- \n",
      " 0   Phrase     7803 non-null   object\n",
      " 1   Sentiment  7803 non-null   int64 \n",
      "dtypes: int64(1), object(1)\n",
      "memory usage: 122.0+ KB\n"
     ]
    }
   ],
   "source": [
    "rtmr_testing = pd.read_csv(r\"rtmr_test.tsv\",sep='\\t')\n",
    "rtmr_testing = rtmr_testing.drop(['PhraseId','SentenceId'], axis =1)\n",
    "rtmr_testing.info()"
   ]
  },
  {
   "cell_type": "code",
   "execution_count": 23,
   "id": "7dbd7b2b",
   "metadata": {},
   "outputs": [],
   "source": [
    "rtmr_test = rtmr_testing.replace([1,3], [0,4])"
   ]
  },
  {
   "cell_type": "code",
   "execution_count": 24,
   "id": "d5f416a0",
   "metadata": {},
   "outputs": [
    {
     "data": {
      "text/html": [
       "<div>\n",
       "<style scoped>\n",
       "    .dataframe tbody tr th:only-of-type {\n",
       "        vertical-align: middle;\n",
       "    }\n",
       "\n",
       "    .dataframe tbody tr th {\n",
       "        vertical-align: top;\n",
       "    }\n",
       "\n",
       "    .dataframe thead th {\n",
       "        text-align: right;\n",
       "    }\n",
       "</style>\n",
       "<table border=\"1\" class=\"dataframe\">\n",
       "  <thead>\n",
       "    <tr style=\"text-align: right;\">\n",
       "      <th></th>\n",
       "      <th>Phrase</th>\n",
       "    </tr>\n",
       "    <tr>\n",
       "      <th>Sentiment</th>\n",
       "      <th></th>\n",
       "    </tr>\n",
       "  </thead>\n",
       "  <tbody>\n",
       "    <tr>\n",
       "      <th>0</th>\n",
       "      <td>punched through by an inconsistent , meanderin...</td>\n",
       "    </tr>\n",
       "    <tr>\n",
       "      <th>2</th>\n",
       "      <td>its depictionRobert DeNiro in Showtimea young ...</td>\n",
       "    </tr>\n",
       "    <tr>\n",
       "      <th>4</th>\n",
       "      <td>Despite modest aspirations its occasional char...</td>\n",
       "    </tr>\n",
       "  </tbody>\n",
       "</table>\n",
       "</div>"
      ],
      "text/plain": [
       "                                                      Phrase\n",
       "Sentiment                                                   \n",
       "0          punched through by an inconsistent , meanderin...\n",
       "2          its depictionRobert DeNiro in Showtimea young ...\n",
       "4          Despite modest aspirations its occasional char..."
      ]
     },
     "execution_count": 24,
     "metadata": {},
     "output_type": "execute_result"
    }
   ],
   "source": [
    "rtmr_test.groupby(by=[\"Sentiment\"]).sum()"
   ]
  },
  {
   "cell_type": "code",
   "execution_count": 25,
   "id": "9f071fa6",
   "metadata": {},
   "outputs": [],
   "source": [
    "#delete text length less than 2 from training dataset\n",
    "rtmr_train = rtmr_train[rtmr_train['Phrase'].map(lambda x: len(str(x)) >2)]"
   ]
  },
  {
   "cell_type": "code",
   "execution_count": 26,
   "id": "f8e5f36b",
   "metadata": {},
   "outputs": [
    {
     "name": "stdout",
     "output_type": "stream",
     "text": [
      "Total reviews in dataframe: 148065 \n",
      "\n"
     ]
    }
   ],
   "source": [
    "#count rows\n",
    "count_row = rtmr_train.shape[0] \n",
    "print(\"Total reviews in dataframe:\",count_row,\"\\n\")"
   ]
  },
  {
   "cell_type": "code",
   "execution_count": 27,
   "id": "4d36ee98",
   "metadata": {
    "scrolled": true
   },
   "outputs": [
    {
     "name": "stdout",
     "output_type": "stream",
     "text": [
      "RTMR Training phrases: 148065\n",
      "RTMR Training sentiment labels: 148065\n"
     ]
    }
   ],
   "source": [
    "rtmr_train_texts = rtmr_train[\"Phrase\"].tolist()\n",
    "rtmr_train_sentiment = rtmr_train[\"Sentiment\"].tolist()\n",
    "print(\"RTMR Training phrases:\",len(rtmr_train_texts))\n",
    "print(\"RTMR Training sentiment labels:\",len(rtmr_train_sentiment))"
   ]
  },
  {
   "cell_type": "code",
   "execution_count": 28,
   "id": "a7e4e050",
   "metadata": {},
   "outputs": [
    {
     "name": "stdout",
     "output_type": "stream",
     "text": [
      "RTMR Test phrases: 7803\n",
      "RTMR Test labels: 7803\n"
     ]
    }
   ],
   "source": [
    "rtmr_test_texts = rtmr_test[\"Phrase\"].tolist()\n",
    "rtmr_test_sentiment = rtmr_test[\"Sentiment\"].tolist()\n",
    "print(\"RTMR Test phrases:\",len(rtmr_test_texts))\n",
    "print(\"RTMR Test labels:\",len(rtmr_test_sentiment))"
   ]
  },
  {
   "cell_type": "code",
   "execution_count": 29,
   "id": "2abd4a8e",
   "metadata": {},
   "outputs": [],
   "source": [
    "#tokenising rtmr datasets\n",
    "import nltk"
   ]
  },
  {
   "cell_type": "code",
   "execution_count": 35,
   "id": "6c5cc5c3",
   "metadata": {},
   "outputs": [],
   "source": [
    "from nltk import word_tokenize "
   ]
  },
  {
   "cell_type": "code",
   "execution_count": 36,
   "id": "ae0790fb",
   "metadata": {},
   "outputs": [],
   "source": [
    "#training set\n",
    "rtmr_train_texts_tokenised = []\n",
    "rtmr_train_sentiment_final = []\n",
    "for i in range(len(rtmr_train_texts)):\n",
    "    try:\n",
    "        tokens = word_tokenize(rtmr_train_texts[i].lower()) \n",
    "        if(len(tokens)>1): \n",
    "            rtmr_train_texts_tokenised.append(tokens) \n",
    "            rtmr_train_sentiment_final.append(rtmr_train_sentiment[i]) \n",
    "    except:\n",
    "        pass"
   ]
  },
  {
   "cell_type": "code",
   "execution_count": 37,
   "id": "f5b2c507",
   "metadata": {
    "scrolled": false
   },
   "outputs": [
    {
     "name": "stdout",
     "output_type": "stream",
     "text": [
      "text 1-6: [['seen', 'before', 'from', 'murphy'], ['of', 'the', 'script'], ['i', 'had', 'expected'], ['a', 'standard', 'police-oriented', 'drama', 'that', ',', 'were', 'it', 'not', 'for', 'de', 'niro', \"'s\", 'participation', ',', 'would', 'have', 'likely', 'wound', 'up', 'a', 'tnt', 'original', '.'], ['the', 'title', 'performance', 'by', 'kieran', 'culkin']]\n",
      "label 1-6: [2, 2, 2, 0, 2]\n"
     ]
    }
   ],
   "source": [
    "print(\"text 1-6:\", rtmr_train_texts_tokenised[0:5])\n",
    "print(\"label 1-6:\", rtmr_train_sentiment_final[0:5])"
   ]
  },
  {
   "cell_type": "code",
   "execution_count": 38,
   "id": "0daa6941",
   "metadata": {},
   "outputs": [],
   "source": [
    "#testing set\n",
    "rtmr_test_texts_tokenised = []\n",
    "rtmr_test_sentiment_final = []\n",
    "for i in range(len(rtmr_test_texts)):\n",
    "    try:\n",
    "        tokens = word_tokenize(rtmr_test_texts[i].lower()) \n",
    "        if(len(tokens)>1): \n",
    "            rtmr_test_texts_tokenised.append(tokens) \n",
    "            rtmr_test_sentiment_final.append(rtmr_test_sentiment[i]) \n",
    "    except:\n",
    "        pass"
   ]
  },
  {
   "cell_type": "code",
   "execution_count": 39,
   "id": "a0b2669f",
   "metadata": {},
   "outputs": [],
   "source": [
    "#preprocessing on datasets\n",
    "from nltk.corpus import stopwords\n",
    "import re"
   ]
  },
  {
   "cell_type": "code",
   "execution_count": 40,
   "id": "3fc24aec",
   "metadata": {},
   "outputs": [],
   "source": [
    "stopwords_english = stopwords.words('english')"
   ]
  },
  {
   "cell_type": "code",
   "execution_count": 41,
   "id": "6a6deb96",
   "metadata": {},
   "outputs": [],
   "source": [
    "#preprocessing on training set\n",
    "rtmr_train_texts_preprocessed = rtmr_train_texts_tokenised \n",
    "for i in range(len(rtmr_train_texts_tokenised)):\n",
    "    new_tokens = []\n",
    "    for word in rtmr_train_texts_tokenised[i]:\n",
    "        word = word.replace(\"-\",\"\") \n",
    "        word = word.replace(\".\",\"\") \n",
    "        regex_check = re.match(\"[a-z]+\", word)\n",
    "        if(regex_check!=None):\n",
    "            if(regex_check.group()==word) and (word not in stopwords_english):\n",
    "                    new_tokens.append(word)\n",
    "    rtmr_train_texts_preprocessed[i] = new_tokens"
   ]
  },
  {
   "cell_type": "code",
   "execution_count": 42,
   "id": "260856fc",
   "metadata": {},
   "outputs": [
    {
     "name": "stdout",
     "output_type": "stream",
     "text": [
      "[['seen', 'murphy'], ['script'], ['expected'], ['standard', 'policeoriented', 'drama', 'de', 'niro', 'participation', 'would', 'likely', 'wound', 'tnt', 'original'], ['title', 'performance', 'kieran', 'culkin'], ['lack', 'idol', 'energy', 'passion', 'detail'], ['unfunny', 'lacking', 'sense', 'commitment', 'affection', 'characters', 'reginald', 'hudlin', 'comedy', 'relies', 'toilet', 'humor', 'ethnic', 'slurs'], ['situation'], ['achievement'], ['fans', 'adventues', 'steve', 'terri']]\n"
     ]
    }
   ],
   "source": [
    "print(rtmr_train_texts_preprocessed[0:10])"
   ]
  },
  {
   "cell_type": "code",
   "execution_count": 43,
   "id": "8943bb7f",
   "metadata": {},
   "outputs": [],
   "source": [
    "emptyindex=[]\n",
    "for i in range(len(rtmr_train_texts_preprocessed)):\n",
    "    if(len(rtmr_train_texts_preprocessed[i])==0):\n",
    "        #print(\"Input\",i,\"is empty!\")\n",
    "        emptyindex.append(i)"
   ]
  },
  {
   "cell_type": "code",
   "execution_count": 44,
   "id": "cc51f2ef",
   "metadata": {},
   "outputs": [
    {
     "data": {
      "text/plain": [
       "132614"
      ]
     },
     "execution_count": 44,
     "metadata": {},
     "output_type": "execute_result"
    }
   ],
   "source": [
    "len(rtmr_train_texts_preprocessed)"
   ]
  },
  {
   "cell_type": "code",
   "execution_count": 45,
   "id": "662c2fa8",
   "metadata": {
    "scrolled": true
   },
   "outputs": [],
   "source": [
    "df1 = pd.DataFrame(list(zip(rtmr_train_texts_preprocessed,rtmr_train_sentiment_final)),columns =['Texts', 'Labels'])"
   ]
  },
  {
   "cell_type": "code",
   "execution_count": 46,
   "id": "db5725bf",
   "metadata": {},
   "outputs": [],
   "source": [
    "rtmr_train_texts_df = df1.drop(emptyindex)"
   ]
  },
  {
   "cell_type": "code",
   "execution_count": 47,
   "id": "a0d5914e",
   "metadata": {},
   "outputs": [],
   "source": [
    "rtmr_train_texts_preprocessed = rtmr_train_texts_df['Texts'].values.tolist()\n",
    "rtmr_train_sentiment_final = rtmr_train_texts_df['Labels'].values.tolist()"
   ]
  },
  {
   "cell_type": "code",
   "execution_count": 48,
   "id": "3d11100b",
   "metadata": {},
   "outputs": [],
   "source": [
    "for i in range(len(rtmr_train_texts_preprocessed)):\n",
    "    if(len(rtmr_train_texts_preprocessed[i])==0):\n",
    "        print(\"Input\",i,\"is empty!\")\n",
    "        emptyindex.append(i)"
   ]
  },
  {
   "cell_type": "code",
   "execution_count": 49,
   "id": "2bea7e2a",
   "metadata": {
    "scrolled": true
   },
   "outputs": [
    {
     "data": {
      "text/plain": [
       "131508"
      ]
     },
     "execution_count": 49,
     "metadata": {},
     "output_type": "execute_result"
    }
   ],
   "source": [
    "len(rtmr_train_texts_preprocessed)"
   ]
  },
  {
   "cell_type": "code",
   "execution_count": 50,
   "id": "e2171a3f",
   "metadata": {},
   "outputs": [
    {
     "name": "stdout",
     "output_type": "stream",
     "text": [
      "seen murphy\n"
     ]
    }
   ],
   "source": [
    "#join strings in training list\n",
    "rtmr_texts_train = []\n",
    "for i in range(len(rtmr_train_texts_preprocessed)):\n",
    "    text = \" \".join(rtmr_train_texts_preprocessed[i])\n",
    "    rtmr_texts_train.append(text)\n",
    "print(rtmr_texts_train[0])"
   ]
  },
  {
   "cell_type": "code",
   "execution_count": 51,
   "id": "12b19f19",
   "metadata": {},
   "outputs": [
    {
     "name": "stdout",
     "output_type": "stream",
     "text": [
      "['despite modest aspirations its occasional charms are not to be dismissed .', 'its depiction', 'punched through by an inconsistent , meandering , and sometimes dry plot', 'robert deniro in showtime', \"a young artist 's\"]\n"
     ]
    }
   ],
   "source": [
    "#join strings in testing list\n",
    "rtmr_texts_test = []\n",
    "for i in range(len(rtmr_test_texts_tokenised)):\n",
    "    text = \" \".join(rtmr_test_texts_tokenised[i])\n",
    "    rtmr_texts_test.append(text)\n",
    "print(rtmr_texts_test[0:5])"
   ]
  },
  {
   "cell_type": "code",
   "execution_count": 52,
   "id": "e040cae0",
   "metadata": {},
   "outputs": [],
   "source": [
    "rtmr_labels_train = rtmr_train_sentiment_final"
   ]
  },
  {
   "cell_type": "code",
   "execution_count": 53,
   "id": "85fe805d",
   "metadata": {},
   "outputs": [],
   "source": [
    "rtmr_labels_test = rtmr_test_sentiment_final"
   ]
  },
  {
   "cell_type": "code",
   "execution_count": 54,
   "id": "24a93dee",
   "metadata": {},
   "outputs": [],
   "source": [
    "#TF-IDF, naive bayes\n",
    "from sklearn.feature_extraction.text import TfidfVectorizer\n",
    "from sklearn.naive_bayes import MultinomialNB\n",
    "from sklearn.pipeline import make_pipeline"
   ]
  },
  {
   "cell_type": "code",
   "execution_count": 55,
   "id": "8fab7446",
   "metadata": {},
   "outputs": [
    {
     "name": "stdout",
     "output_type": "stream",
     "text": [
      "Predicted: [4, 4, 0, 2, 2, 2, 2, 2, 4, 2]\n",
      "Ground truth: [4, 2, 0, 2, 2, 2, 2, 4, 4, 2]\n"
     ]
    }
   ],
   "source": [
    "#first naive bayes model on rtmr datasets\n",
    "model_nb = make_pipeline(TfidfVectorizer(), MultinomialNB())\n",
    "model_nb.fit(rtmr_texts_train, rtmr_labels_train) \n",
    "predicted_categories_1 = model_nb.predict(rtmr_texts_test) # Predict the categories of the test data\n",
    "print(\"Predicted:\",predicted_categories_1.tolist()[0:10]) # Print the first 10 predictions\n",
    "print(\"Ground truth:\",rtmr_labels_test[0:10]) # Print the first 10 ground truth values"
   ]
  },
  {
   "cell_type": "code",
   "execution_count": 48,
   "id": "a72fca0d",
   "metadata": {},
   "outputs": [],
   "source": [
    "from sklearn.metrics import confusion_matrix, accuracy_score, f1_score,precision_score,recall_score, classification_report\n",
    "import seaborn as sns\n",
    "import matplotlib.pyplot as plt\n",
    "sns.set()"
   ]
  },
  {
   "cell_type": "code",
   "execution_count": 49,
   "id": "6870ff38",
   "metadata": {},
   "outputs": [
    {
     "data": {
      "image/png": "[encoded data removed]",
      "text/plain": [
       "<Figure size 432x288 with 2 Axes>"
      ]
     },
     "metadata": {},
     "output_type": "display_data"
    }
   ],
   "source": [
    "mat1 = confusion_matrix(rtmr_labels_test, predicted_categories_1)\n",
    "sns.heatmap(mat1.T, square = True, annot=True, fmt = \"d\")\n",
    "plt.xlabel(\"True label\")\n",
    "plt.ylabel(\"Predicted label\")\n",
    "plt.show()"
   ]
  },
  {
   "cell_type": "code",
   "execution_count": 50,
   "id": "bb31fbf1",
   "metadata": {},
   "outputs": [
    {
     "name": "stdout",
     "output_type": "stream",
     "text": [
      "Accuracy:\t0.664417\n",
      "F1-score:\t0.638430\n",
      "Precision:\t0.685466\n",
      "Recall:\t\t0.619535\n",
      "\n",
      "Classification performance:\n",
      "              precision    recall  f1-score   support\n",
      "\n",
      "           0       0.72      0.45      0.56      1620\n",
      "           2       0.64      0.80      0.71      3402\n",
      "           4       0.70      0.61      0.65      1942\n",
      "\n",
      "    accuracy                           0.66      6964\n",
      "   macro avg       0.69      0.62      0.64      6964\n",
      "weighted avg       0.67      0.66      0.66      6964\n",
      "\n"
     ]
    }
   ],
   "source": [
    "print(\"Accuracy:\\t%f\" % accuracy_score(rtmr_labels_test, predicted_categories_1))\n",
    "print(\"F1-score:\\t%f\" % f1_score(rtmr_labels_test, predicted_categories_1, average='macro'))\n",
    "print(\"Precision:\\t%f\" % precision_score(rtmr_labels_test, predicted_categories_1, average='macro'))\n",
    "print(\"Recall:\\t\\t%f\" % recall_score(rtmr_labels_test, predicted_categories_1, average='macro'))\n",
    "print(\"\\nClassification performance:\\n%s\" % classification_report(rtmr_labels_test, predicted_categories_1))"
   ]
  },
  {
   "cell_type": "code",
   "execution_count": 51,
   "id": "781755fd",
   "metadata": {
    "scrolled": false
   },
   "outputs": [
    {
     "name": "stdout",
     "output_type": "stream",
     "text": [
      "S140 Testing phrases: 498\n",
      "S140 Testing sentiment labels: 498\n"
     ]
    }
   ],
   "source": [
    "#first naive bayes model s140 test dataset\n",
    "s140_texts_test = s140_test[\"Tweet\"].tolist()\n",
    "s140_sentiment_test = s140_test[\"Sentiment\"].tolist()\n",
    "print(\"S140 Testing phrases:\",len(s140_texts_test))\n",
    "print(\"S140 Testing sentiment labels:\",len(s140_sentiment_test))"
   ]
  },
  {
   "cell_type": "code",
   "execution_count": 52,
   "id": "3ed2aebd",
   "metadata": {},
   "outputs": [],
   "source": [
    "#tokenising s140_sentiment_test:\n",
    "s140_test_texts_tokenised = []\n",
    "s140_test_sentiment_final = []\n",
    "for i in range(len(s140_texts_test)):\n",
    "    try:\n",
    "        tokens = word_tokenize(s140_texts_test[i].lower()) \n",
    "        if(len(tokens)>1): \n",
    "            s140_test_texts_tokenised.append(tokens) \n",
    "            s140_test_sentiment_final.append(s140_sentiment_test[i]) \n",
    "    except:\n",
    "        pass"
   ]
  },
  {
   "cell_type": "code",
   "execution_count": 53,
   "id": "bf0bb2c1",
   "metadata": {
    "scrolled": true
   },
   "outputs": [
    {
     "name": "stdout",
     "output_type": "stream",
     "text": [
      "text 1-6: [['@', 'stellargirl', 'i', 'loooooooovvvvvveee', 'my', 'kindle2', '.', 'not', 'that', 'the', 'dx', 'is', 'cool', ',', 'but', 'the', '2', 'is', 'fantastic', 'in', 'its', 'own', 'right', '.'], ['reading', 'my', 'kindle2', '...', 'love', 'it', '...', 'lee', 'childs', 'is', 'good', 'read', '.'], ['ok', ',', 'first', 'assesment', 'of', 'the', '#', 'kindle2', '...', 'it', 'fucking', 'rocks', '!', '!', '!'], ['@', 'kenburbary', 'you', \"'ll\", 'love', 'your', 'kindle2', '.', 'i', \"'ve\", 'had', 'mine', 'for', 'a', 'few', 'months', 'and', 'never', 'looked', 'back', '.', 'the', 'new', 'big', 'one', 'is', 'huge', '!', 'no', 'need', 'for', 'remorse', '!', ':', ')'], ['@', 'mikefish', 'fair', 'enough', '.', 'but', 'i', 'have', 'the', 'kindle2', 'and', 'i', 'think', 'it', \"'s\", 'perfect', ':', ')']]\n",
      "label 1-6: [4, 4, 4, 4, 4]\n"
     ]
    }
   ],
   "source": [
    "print(\"text 1-6:\", s140_test_texts_tokenised[0:5])\n",
    "print(\"label 1-6:\", s140_test_sentiment_final[0:5])"
   ]
  },
  {
   "cell_type": "code",
   "execution_count": 54,
   "id": "0c7ae7a3",
   "metadata": {},
   "outputs": [],
   "source": [
    "s140_texts_test = []\n",
    "for i in range(len(s140_test_texts_tokenised)):\n",
    "    text = \" \".join(s140_test_texts_tokenised[i])\n",
    "    s140_texts_test.append(text)"
   ]
  },
  {
   "cell_type": "code",
   "execution_count": 55,
   "id": "fcf677cd",
   "metadata": {},
   "outputs": [],
   "source": [
    "s140_labels_test = s140_test_sentiment_final"
   ]
  },
  {
   "cell_type": "code",
   "execution_count": 56,
   "id": "f88a3385",
   "metadata": {
    "scrolled": true
   },
   "outputs": [
    {
     "name": "stdout",
     "output_type": "stream",
     "text": [
      "Predicted: [4, 2, 4, 2, 4, 4, 2, 4, 4, 2]\n",
      "Ground truth: [4, 4, 4, 4, 4, 4, 0, 4, 4, 4]\n"
     ]
    }
   ],
   "source": [
    "#fitting model\n",
    "predicted_categories_2 = model_nb.predict(s140_texts_test) \n",
    "print(\"Predicted:\",predicted_categories_2.tolist()[0:10]) \n",
    "print(\"Ground truth:\",s140_labels_test[0:10]) "
   ]
  },
  {
   "cell_type": "code",
   "execution_count": 57,
   "id": "14585aea",
   "metadata": {},
   "outputs": [
    {
     "data": {
      "image/png": "[encoded data removed]",
      "text/plain": [
       "<Figure size 432x288 with 2 Axes>"
      ]
     },
     "metadata": {},
     "output_type": "display_data"
    }
   ],
   "source": [
    "mat2 = confusion_matrix(s140_labels_test, predicted_categories_2)\n",
    "sns.heatmap(mat2.T, square = True, annot=True, fmt = \"d\")\n",
    "plt.xlabel(\"True label\")\n",
    "plt.ylabel(\"Predicted label\")\n",
    "plt.show()"
   ]
  },
  {
   "cell_type": "code",
   "execution_count": 58,
   "id": "ddf8e443",
   "metadata": {},
   "outputs": [
    {
     "name": "stdout",
     "output_type": "stream",
     "text": [
      "Accuracy:\t0.395582\n",
      "F1-score:\t0.352786\n",
      "Precision:\t0.633851\n",
      "Recall:\t\t0.437610\n",
      "\n",
      "Classification performance:\n",
      "              precision    recall  f1-score   support\n",
      "\n",
      "           0       0.80      0.16      0.26       177\n",
      "           2       0.32      0.96      0.48       139\n",
      "           4       0.78      0.20      0.32       182\n",
      "\n",
      "    accuracy                           0.40       498\n",
      "   macro avg       0.63      0.44      0.35       498\n",
      "weighted avg       0.66      0.40      0.34       498\n",
      "\n"
     ]
    }
   ],
   "source": [
    "print(\"Accuracy:\\t%f\" % accuracy_score(s140_sentiment_test, predicted_categories_2))\n",
    "print(\"F1-score:\\t%f\" % f1_score(s140_sentiment_test, predicted_categories_2, average='macro'))\n",
    "print(\"Precision:\\t%f\" % precision_score(s140_sentiment_test, predicted_categories_2, average='macro'))\n",
    "print(\"Recall:\\t\\t%f\" % recall_score(s140_sentiment_test, predicted_categories_2, average='macro'))\n",
    "print(\"\\nClassification performance:\\n%s\" % classification_report(s140_sentiment_test, predicted_categories_2))"
   ]
  },
  {
   "cell_type": "code",
   "execution_count": 59,
   "id": "44c616d6",
   "metadata": {},
   "outputs": [],
   "source": [
    "# start to tokenise s140 training set\n",
    "s140_train = s140_train[s140_train['Tweet'].map(lambda x: len(str(x)) >2)]"
   ]
  },
  {
   "cell_type": "code",
   "execution_count": 60,
   "id": "754d9ae3",
   "metadata": {
    "scrolled": true
   },
   "outputs": [
    {
     "name": "stdout",
     "output_type": "stream",
     "text": [
      "S140 Training phrases: 80000\n",
      "S140 Training sentiment labels: 80000\n"
     ]
    }
   ],
   "source": [
    "#split the dataset\n",
    "s140_train_texts = s140_train[\"Tweet\"].tolist()\n",
    "s140_train_sentiment = s140_train[\"Sentiment\"].tolist()\n",
    "print(\"S140 Training phrases:\",len(s140_train_texts))\n",
    "print(\"S140 Training sentiment labels:\",len(s140_train_sentiment))"
   ]
  },
  {
   "cell_type": "code",
   "execution_count": 61,
   "id": "ef54990f",
   "metadata": {},
   "outputs": [],
   "source": [
    "#lowering texts in training set\n",
    "s140_train_texts_tokenised = []\n",
    "s140_train_sentiment_final = []\n",
    "for i in range(len(rtmr_train_texts)):\n",
    "    try:\n",
    "        tokens = word_tokenize(s140_train_texts[i].lower()) \n",
    "        if(len(tokens)>1): \n",
    "            s140_train_texts_tokenised.append(tokens) \n",
    "            s140_train_sentiment_final.append(s140_train_sentiment[i]) \n",
    "    except:\n",
    "        pass"
   ]
  },
  {
   "cell_type": "code",
   "execution_count": 62,
   "id": "1dd1c2bb",
   "metadata": {},
   "outputs": [
    {
     "name": "stdout",
     "output_type": "stream",
     "text": [
      "text 1-6: [['i', 'miss', 'nikki', 'nu', 'nu', 'already', 'shes', 'always', 'there', 'when', 'needed', 'thank', 'u', 'xxx'], ['so', 'i', 'had', 'a', 'dream', 'last', 'night', '.', 'i', 'remember', 'a', 'sign', 'which', 'clearly', 'told', 'me', 'where', 'to', 'get', 'a', 'job', '.', 'i', 'ca', \"n't\", 'rememer', 'what', 'the', 'sign', 'said', '.'], ['@', 'girlyghost', 'ohh', 'poor', 'sickly', 'you', '(', '(', '(', 'hugs', ')', ')', 'hope', 'you', 'feel', 'a', 'little', 'better', 'soon'], ['it', 'is', 'raining', 'again'], ['@', 'misskeribaby', 'wish', 'i', 'was', 'in', 'la', 'right', 'now']]\n",
      "label 1-6: [0, 0, 0, 0, 0]\n"
     ]
    }
   ],
   "source": [
    "print(\"text 1-6:\", s140_train_texts_tokenised[0:5])\n",
    "print(\"label 1-6:\", s140_train_sentiment_final[0:5])"
   ]
  },
  {
   "cell_type": "code",
   "execution_count": 63,
   "id": "5833cd3b",
   "metadata": {},
   "outputs": [],
   "source": [
    "#preprocessing on training set\n",
    "s140_train_texts_preprocessed = s140_train_texts_tokenised \n",
    "for i in range(len(s140_train_texts_tokenised)):\n",
    "    new_tokens = []\n",
    "    for word in s140_train_texts_tokenised[i]:\n",
    "        word = word.replace(\"-\",\"\") \n",
    "        word = word.replace(\".\",\"\") \n",
    "        regex_check = re.match(\"[a-z]+\", word)\n",
    "        if(regex_check!=None):\n",
    "            if(regex_check.group()==word) and (word not in stopwords_english):\n",
    "                    new_tokens.append(word)\n",
    "    s140_train_texts_preprocessed[i] = new_tokens"
   ]
  },
  {
   "cell_type": "code",
   "execution_count": 64,
   "id": "bfc65b66",
   "metadata": {},
   "outputs": [
    {
     "name": "stdout",
     "output_type": "stream",
     "text": [
      "text 1-6: [['miss', 'nikki', 'nu', 'nu', 'already', 'shes', 'always', 'needed', 'thank', 'u', 'xxx'], ['dream', 'last', 'night', 'remember', 'sign', 'clearly', 'told', 'get', 'job', 'ca', 'rememer', 'sign', 'said'], ['girlyghost', 'ohh', 'poor', 'sickly', 'hugs', 'hope', 'feel', 'little', 'better', 'soon'], ['raining'], ['misskeribaby', 'wish', 'la', 'right']]\n"
     ]
    }
   ],
   "source": [
    "print(\"text 1-6:\", s140_train_texts_preprocessed[0:5])"
   ]
  },
  {
   "cell_type": "code",
   "execution_count": 65,
   "id": "88b30ba3",
   "metadata": {},
   "outputs": [
    {
     "data": {
      "text/plain": [
       "79913"
      ]
     },
     "execution_count": 65,
     "metadata": {},
     "output_type": "execute_result"
    }
   ],
   "source": [
    "len(s140_train_texts_preprocessed)"
   ]
  },
  {
   "cell_type": "code",
   "execution_count": 66,
   "id": "a45995c2",
   "metadata": {},
   "outputs": [
    {
     "data": {
      "text/plain": [
       "79913"
      ]
     },
     "execution_count": 66,
     "metadata": {},
     "output_type": "execute_result"
    }
   ],
   "source": [
    "len(s140_train_sentiment_final)"
   ]
  },
  {
   "cell_type": "code",
   "execution_count": 67,
   "id": "a5012cd0",
   "metadata": {
    "scrolled": true
   },
   "outputs": [
    {
     "data": {
      "text/plain": [
       "106"
      ]
     },
     "execution_count": 67,
     "metadata": {},
     "output_type": "execute_result"
    }
   ],
   "source": [
    "emptyindex=[]\n",
    "for i in range(len(s140_train_texts_preprocessed)):\n",
    "    if(len(s140_train_texts_preprocessed[i])==0):\n",
    "        #print(\"Input\",i,\"is empty!\")\n",
    "        emptyindex.append(i)\n",
    "len(emptyindex)"
   ]
  },
  {
   "cell_type": "code",
   "execution_count": 68,
   "id": "2dad1d12",
   "metadata": {},
   "outputs": [],
   "source": [
    "df2 = pd.DataFrame(list(zip(s140_train_texts_preprocessed,s140_train_sentiment_final)))\n",
    "s140_train_texts_df2 = df2.drop(emptyindex)"
   ]
  },
  {
   "cell_type": "code",
   "execution_count": 69,
   "id": "c6837feb",
   "metadata": {},
   "outputs": [],
   "source": [
    "s140_train_texts_preprocessed = s140_train_texts_df2[0].values.tolist()\n",
    "s140_train_sentiment_final = s140_train_texts_df2[1].values.tolist()"
   ]
  },
  {
   "cell_type": "code",
   "execution_count": 70,
   "id": "63ac124b",
   "metadata": {
    "scrolled": true
   },
   "outputs": [
    {
     "data": {
      "text/plain": [
       "79807"
      ]
     },
     "execution_count": 70,
     "metadata": {},
     "output_type": "execute_result"
    }
   ],
   "source": [
    "len(s140_train_texts_preprocessed)"
   ]
  },
  {
   "cell_type": "code",
   "execution_count": 71,
   "id": "d8700d7a",
   "metadata": {},
   "outputs": [
    {
     "data": {
      "text/plain": [
       "79807"
      ]
     },
     "execution_count": 71,
     "metadata": {},
     "output_type": "execute_result"
    }
   ],
   "source": [
    "len(s140_train_sentiment_final)"
   ]
  },
  {
   "cell_type": "code",
   "execution_count": 72,
   "id": "e5839793",
   "metadata": {},
   "outputs": [
    {
     "name": "stdout",
     "output_type": "stream",
     "text": [
      "miss nikki nu nu already shes always needed thank u xxx\n"
     ]
    }
   ],
   "source": [
    "#join strings in training list\n",
    "s140_texts_train = []\n",
    "for i in range(len(s140_train_texts_preprocessed)):\n",
    "    text = \" \".join(s140_train_texts_preprocessed[i])\n",
    "    s140_texts_train.append(text)\n",
    "print(s140_texts_train[0])"
   ]
  },
  {
   "cell_type": "code",
   "execution_count": 73,
   "id": "563b51da",
   "metadata": {
    "scrolled": false
   },
   "outputs": [],
   "source": [
    "# group test labels into binary classifications\n",
    "s140_bi_labels_test = s140_labels_test\n",
    "for i in range(len(s140_bi_labels_test)):\n",
    "    if s140_bi_labels_test[i] == 2:\n",
    "        s140_bi_labels_test[i] = 0"
   ]
  },
  {
   "cell_type": "code",
   "execution_count": 74,
   "id": "2ae37331",
   "metadata": {},
   "outputs": [],
   "source": [
    "rtmr_bi_labels_test = rtmr_labels_test\n",
    "for i in range(len(rtmr_bi_labels_test)):\n",
    "    if rtmr_bi_labels_test[i] == 2:\n",
    "        rtmr_bi_labels_test[i] = 0"
   ]
  },
  {
   "cell_type": "code",
   "execution_count": 75,
   "id": "59b50e4a",
   "metadata": {},
   "outputs": [
    {
     "name": "stdout",
     "output_type": "stream",
     "text": [
      "Counter({0: 316, 4: 182})\n"
     ]
    }
   ],
   "source": [
    "import collections\n",
    "counter=collections.Counter(s140_labels_test)\n",
    "print(counter)"
   ]
  },
  {
   "cell_type": "code",
   "execution_count": 76,
   "id": "06cefad8",
   "metadata": {},
   "outputs": [
    {
     "name": "stdout",
     "output_type": "stream",
     "text": [
      "Counter({0: 5022, 4: 1942})\n"
     ]
    }
   ],
   "source": [
    "import collections\n",
    "counter=collections.Counter(rtmr_labels_test)\n",
    "print(counter)"
   ]
  },
  {
   "cell_type": "code",
   "execution_count": 77,
   "id": "8b1db18b",
   "metadata": {},
   "outputs": [],
   "source": [
    "s140_labels_train = s140_train_sentiment_final"
   ]
  },
  {
   "cell_type": "code",
   "execution_count": 78,
   "id": "3ab0bdd2",
   "metadata": {},
   "outputs": [
    {
     "name": "stdout",
     "output_type": "stream",
     "text": [
      "Predicted: [0, 4, 0, 0, 4, 4, 4, 0, 4, 4]\n",
      "Ground truth: [4, 0, 0, 0, 0, 0, 0, 4, 4, 0]\n"
     ]
    }
   ],
   "source": [
    "#second naive bayes model trained on s140 training dataset\n",
    "model_nb2 = make_pipeline(TfidfVectorizer(), MultinomialNB())\n",
    "model_nb2.fit(s140_texts_train, s140_labels_train) \n",
    "#second naive bayes model tested on rtmr training dataset\n",
    "predicted_categories_3 = model_nb2.predict(rtmr_texts_test) \n",
    "print(\"Predicted:\",predicted_categories_3.tolist()[0:10]) \n",
    "print(\"Ground truth:\",rtmr_bi_labels_test[0:10]) "
   ]
  },
  {
   "cell_type": "code",
   "execution_count": 79,
   "id": "472d776a",
   "metadata": {},
   "outputs": [
    {
     "data": {
      "image/png": "[encoded data removed]",
      "text/plain": [
       "<Figure size 432x288 with 2 Axes>"
      ]
     },
     "metadata": {},
     "output_type": "display_data"
    }
   ],
   "source": [
    "mat3 = confusion_matrix(rtmr_bi_labels_test, predicted_categories_3)\n",
    "sns.heatmap(mat3.T, square = True, annot=True, fmt = \"d\")\n",
    "plt.xlabel(\"True label\")\n",
    "plt.ylabel(\"Predicted label\")\n",
    "plt.show()"
   ]
  },
  {
   "cell_type": "code",
   "execution_count": 80,
   "id": "84ff3926",
   "metadata": {},
   "outputs": [
    {
     "name": "stdout",
     "output_type": "stream",
     "text": [
      "Accuracy:\t0.515796\n",
      "F1-score:\t0.509644\n",
      "Precision:\t0.567267\n",
      "Recall:\t\t0.579640\n",
      "\n",
      "Classification performance:\n",
      "              precision    recall  f1-score   support\n",
      "\n",
      "           0       0.80      0.44      0.56      5022\n",
      "           4       0.33      0.72      0.45      1942\n",
      "\n",
      "    accuracy                           0.52      6964\n",
      "   macro avg       0.57      0.58      0.51      6964\n",
      "weighted avg       0.67      0.52      0.53      6964\n",
      "\n"
     ]
    }
   ],
   "source": [
    "print(\"Accuracy:\\t%f\" % accuracy_score(rtmr_bi_labels_test, predicted_categories_3))\n",
    "print(\"F1-score:\\t%f\" % f1_score(rtmr_bi_labels_test, predicted_categories_3, average='macro'))\n",
    "print(\"Precision:\\t%f\" % precision_score(rtmr_bi_labels_test, predicted_categories_3, average='macro'))\n",
    "print(\"Recall:\\t\\t%f\" % recall_score(rtmr_bi_labels_test, predicted_categories_3, average='macro'))\n",
    "print(\"\\nClassification performance:\\n%s\" % classification_report(rtmr_bi_labels_test, predicted_categories_3))"
   ]
  },
  {
   "cell_type": "code",
   "execution_count": 81,
   "id": "c3e3c1bb",
   "metadata": {},
   "outputs": [
    {
     "name": "stdout",
     "output_type": "stream",
     "text": [
      "Predicted: [4, 4, 4, 0, 0, 4, 0, 4, 4, 4]\n",
      "Ground truth: [4, 4, 4, 4, 4, 4, 0, 4, 4, 4]\n"
     ]
    }
   ],
   "source": [
    "#second naive bayes model tested on s140 training dataset\n",
    "predicted_categories_4 = model_nb2.predict(s140_texts_test) \n",
    "print(\"Predicted:\",predicted_categories_4.tolist()[0:10]) \n",
    "print(\"Ground truth:\",s140_bi_labels_test[0:10])"
   ]
  },
  {
   "cell_type": "code",
   "execution_count": 82,
   "id": "a95239da",
   "metadata": {},
   "outputs": [
    {
     "data": {
      "image/png": "[encoded data removed]",
      "text/plain": [
       "<Figure size 432x288 with 2 Axes>"
      ]
     },
     "metadata": {},
     "output_type": "display_data"
    }
   ],
   "source": [
    "mat4 = confusion_matrix(s140_bi_labels_test, predicted_categories_4)\n",
    "sns.heatmap(mat4.T, square = True, annot=True, fmt = \"d\")\n",
    "plt.xlabel(\"True label\")\n",
    "plt.ylabel(\"Predicted label\")\n",
    "plt.show()"
   ]
  },
  {
   "cell_type": "code",
   "execution_count": 83,
   "id": "95635a66",
   "metadata": {},
   "outputs": [
    {
     "name": "stdout",
     "output_type": "stream",
     "text": [
      "Accuracy:\t0.684739\n",
      "F1-score:\t0.677816\n",
      "Precision:\t0.681603\n",
      "Recall:\t\t0.695664\n",
      "\n",
      "Classification performance:\n",
      "              precision    recall  f1-score   support\n",
      "\n",
      "           0       0.81      0.66      0.73       316\n",
      "           4       0.55      0.74      0.63       182\n",
      "\n",
      "    accuracy                           0.68       498\n",
      "   macro avg       0.68      0.70      0.68       498\n",
      "weighted avg       0.72      0.68      0.69       498\n",
      "\n"
     ]
    }
   ],
   "source": [
    "print(\"Accuracy:\\t%f\" % accuracy_score(s140_bi_labels_test, predicted_categories_4))\n",
    "print(\"F1-score:\\t%f\" % f1_score(s140_bi_labels_test, predicted_categories_4, average='macro'))\n",
    "print(\"Precision:\\t%f\" % precision_score(s140_bi_labels_test, predicted_categories_4, average='macro'))\n",
    "print(\"Recall:\\t\\t%f\" % recall_score(s140_bi_labels_test, predicted_categories_4, average='macro'))\n",
    "print(\"\\nClassification performance:\\n%s\" % classification_report(s140_bi_labels_test, predicted_categories_4))"
   ]
  },
  {
   "cell_type": "code",
   "execution_count": 84,
   "id": "1864c0a6",
   "metadata": {},
   "outputs": [
    {
     "name": "stdout",
     "output_type": "stream",
     "text": [
      "Counter({2: 62935, 4: 37990, 0: 30583})\n"
     ]
    }
   ],
   "source": [
    "import collections\n",
    "counter=collections.Counter(rtmr_labels_train)\n",
    "print(counter)"
   ]
  },
  {
   "cell_type": "code",
   "execution_count": 85,
   "id": "b4f214a6",
   "metadata": {},
   "outputs": [],
   "source": [
    "rtmr_bi_labels_train = rtmr_labels_train\n",
    "for i in range(len(rtmr_bi_labels_train)):\n",
    "    if rtmr_bi_labels_train[i] == 2:\n",
    "        rtmr_bi_labels_train[i] = 0"
   ]
  },
  {
   "cell_type": "code",
   "execution_count": 86,
   "id": "3e9e7446",
   "metadata": {},
   "outputs": [
    {
     "name": "stdout",
     "output_type": "stream",
     "text": [
      "Counter({0: 93518, 4: 37990})\n"
     ]
    }
   ],
   "source": [
    "import collections\n",
    "counter=collections.Counter(rtmr_bi_labels_train)\n",
    "print(counter)"
   ]
  },
  {
   "cell_type": "code",
   "execution_count": 87,
   "id": "e1a8d11d",
   "metadata": {},
   "outputs": [],
   "source": [
    "texts_train_set = rtmr_texts_train + s140_texts_train\n",
    "labels_train_set = rtmr_bi_labels_train + s140_labels_train"
   ]
  },
  {
   "cell_type": "code",
   "execution_count": 88,
   "id": "38bf8a3f",
   "metadata": {},
   "outputs": [
    {
     "data": {
      "text/plain": [
       "211315"
      ]
     },
     "execution_count": 88,
     "metadata": {},
     "output_type": "execute_result"
    }
   ],
   "source": [
    "len(texts_train_set)"
   ]
  },
  {
   "cell_type": "code",
   "execution_count": 89,
   "id": "f6be096d",
   "metadata": {
    "scrolled": true
   },
   "outputs": [
    {
     "data": {
      "text/plain": [
       "Pipeline(steps=[('tfidfvectorizer', TfidfVectorizer()),\n",
       "                ('multinomialnb', MultinomialNB())])"
      ]
     },
     "execution_count": 89,
     "metadata": {},
     "output_type": "execute_result"
    }
   ],
   "source": [
    "#third naive bayes model trained on rtmr + s140 training datasets\n",
    "model_nb3 = make_pipeline(TfidfVectorizer(), MultinomialNB())\n",
    "model_nb3.fit(texts_train_set, labels_train_set) "
   ]
  },
  {
   "cell_type": "code",
   "execution_count": 90,
   "id": "90196b0b",
   "metadata": {},
   "outputs": [
    {
     "name": "stdout",
     "output_type": "stream",
     "text": [
      "Predicted: [0, 4, 0, 0, 0, 0, 0, 0, 4, 0]\n",
      "Ground truth: [4, 0, 0, 0, 0, 0, 0, 4, 4, 0]\n"
     ]
    }
   ],
   "source": [
    "#third naive bayes model tested on rtmr testing dataset\n",
    "predicted_categories_5 = model_nb3.predict(rtmr_texts_test) \n",
    "print(\"Predicted:\",predicted_categories_5.tolist()[0:10]) \n",
    "print(\"Ground truth:\",rtmr_bi_labels_test[0:10]) "
   ]
  },
  {
   "cell_type": "code",
   "execution_count": 91,
   "id": "a27252b4",
   "metadata": {},
   "outputs": [
    {
     "data": {
      "image/png": "[encoded data removed]",
      "text/plain": [
       "<Figure size 432x288 with 2 Axes>"
      ]
     },
     "metadata": {},
     "output_type": "display_data"
    }
   ],
   "source": [
    "mat5 = confusion_matrix(rtmr_bi_labels_test, predicted_categories_5)\n",
    "sns.heatmap(mat5.T, square = True, annot=True, fmt = \"d\")\n",
    "plt.xlabel(\"True label\")\n",
    "plt.ylabel(\"Predicted label\")\n",
    "plt.show()"
   ]
  },
  {
   "cell_type": "code",
   "execution_count": 92,
   "id": "8c21df17",
   "metadata": {},
   "outputs": [
    {
     "name": "stdout",
     "output_type": "stream",
     "text": [
      "Accuracy:\t0.801838\n",
      "F1-score:\t0.715134\n",
      "Precision:\t0.776485\n",
      "Recall:\t\t0.693489\n",
      "\n",
      "Classification performance:\n",
      "              precision    recall  f1-score   support\n",
      "\n",
      "           0       0.81      0.94      0.87      5022\n",
      "           4       0.74      0.45      0.56      1942\n",
      "\n",
      "    accuracy                           0.80      6964\n",
      "   macro avg       0.78      0.69      0.72      6964\n",
      "weighted avg       0.79      0.80      0.78      6964\n",
      "\n"
     ]
    }
   ],
   "source": [
    "print(\"Accuracy:\\t%f\" % accuracy_score(rtmr_bi_labels_test, predicted_categories_5))\n",
    "print(\"F1-score:\\t%f\" % f1_score(rtmr_bi_labels_test, predicted_categories_5, average='macro'))\n",
    "print(\"Precision:\\t%f\" % precision_score(rtmr_bi_labels_test, predicted_categories_5, average='macro'))\n",
    "print(\"Recall:\\t\\t%f\" % recall_score(rtmr_bi_labels_test, predicted_categories_5, average='macro'))\n",
    "print(\"\\nClassification performance:\\n%s\" % classification_report(rtmr_bi_labels_test, predicted_categories_5))"
   ]
  },
  {
   "cell_type": "code",
   "execution_count": 93,
   "id": "416be1e8",
   "metadata": {},
   "outputs": [
    {
     "name": "stdout",
     "output_type": "stream",
     "text": [
      "Predicted: [4, 4, 4, 0, 0, 4, 0, 4, 4, 0]\n",
      "Ground truth: [4, 4, 4, 4, 4, 4, 0, 4, 4, 4]\n"
     ]
    }
   ],
   "source": [
    "#third naive bayes model tested on s140 testing dataset\n",
    "predicted_categories_6 = model_nb3.predict(s140_texts_test) \n",
    "print(\"Predicted:\",predicted_categories_6.tolist()[0:10]) \n",
    "print(\"Ground truth:\",s140_bi_labels_test[0:10]) "
   ]
  },
  {
   "cell_type": "code",
   "execution_count": 94,
   "id": "f8fe9c4e",
   "metadata": {},
   "outputs": [
    {
     "data": {
      "image/png": "[encoded data removed]",
      "text/plain": [
       "<Figure size 432x288 with 2 Axes>"
      ]
     },
     "metadata": {},
     "output_type": "display_data"
    }
   ],
   "source": [
    "mat6 = confusion_matrix(s140_bi_labels_test, predicted_categories_6)\n",
    "sns.heatmap(mat6.T, square = True, annot=True, fmt = \"d\")\n",
    "plt.xlabel(\"True label\")\n",
    "plt.ylabel(\"Predicted label\")\n",
    "plt.show()"
   ]
  },
  {
   "cell_type": "code",
   "execution_count": 95,
   "id": "5f62f61d",
   "metadata": {},
   "outputs": [
    {
     "name": "stdout",
     "output_type": "stream",
     "text": [
      "Accuracy:\t0.718876\n",
      "F1-score:\t0.683735\n",
      "Precision:\t0.696437\n",
      "Recall:\t\t0.678293\n",
      "\n",
      "Classification performance:\n",
      "              precision    recall  f1-score   support\n",
      "\n",
      "           0       0.75      0.83      0.79       316\n",
      "           4       0.64      0.53      0.58       182\n",
      "\n",
      "    accuracy                           0.72       498\n",
      "   macro avg       0.70      0.68      0.68       498\n",
      "weighted avg       0.71      0.72      0.71       498\n",
      "\n"
     ]
    }
   ],
   "source": [
    "print(\"Accuracy:\\t%f\" % accuracy_score(s140_bi_labels_test, predicted_categories_6))\n",
    "print(\"F1-score:\\t%f\" % f1_score(s140_bi_labels_test, predicted_categories_6, average='macro'))\n",
    "print(\"Precision:\\t%f\" % precision_score(s140_bi_labels_test, predicted_categories_6, average='macro'))\n",
    "print(\"Recall:\\t\\t%f\" % recall_score(s140_bi_labels_test, predicted_categories_6, average='macro'))\n",
    "print(\"\\nClassification performance:\\n%s\" % classification_report(s140_bi_labels_test, predicted_categories_6))"
   ]
  },
  {
   "cell_type": "code",
   "execution_count": 96,
   "id": "5ffa4f9e",
   "metadata": {},
   "outputs": [
    {
     "name": "stderr",
     "output_type": "stream",
     "text": [
      "/Users/liuyu/opt/anaconda3/envs/py_3_9_7/lib/python3.9/site-packages/tqdm/auto.py:22: TqdmWarning: IProgress not found. Please update jupyter and ipywidgets. See https://ipywidgets.readthedocs.io/en/stable/user_install.html\n",
      "  from .autonotebook import tqdm as notebook_tqdm\n"
     ]
    }
   ],
   "source": [
    "#CNN model for sentiment analysis\n",
    "import torch"
   ]
  },
  {
   "cell_type": "code",
   "execution_count": 97,
   "id": "84fd0408",
   "metadata": {},
   "outputs": [],
   "source": [
    "import torch.nn as nn"
   ]
  },
  {
   "cell_type": "code",
   "execution_count": 98,
   "id": "32416140",
   "metadata": {},
   "outputs": [],
   "source": [
    "df3 = pd.DataFrame(list(zip(rtmr_train_texts,rtmr_bi_labels_train)),columns =['Texts', 'Labels'])"
   ]
  },
  {
   "cell_type": "code",
   "execution_count": 99,
   "id": "d99bdb51",
   "metadata": {
    "scrolled": true
   },
   "outputs": [
    {
     "data": {
      "text/html": [
       "<div>\n",
       "<style scoped>\n",
       "    .dataframe tbody tr th:only-of-type {\n",
       "        vertical-align: middle;\n",
       "    }\n",
       "\n",
       "    .dataframe tbody tr th {\n",
       "        vertical-align: top;\n",
       "    }\n",
       "\n",
       "    .dataframe thead th {\n",
       "        text-align: right;\n",
       "    }\n",
       "</style>\n",
       "<table border=\"1\" class=\"dataframe\">\n",
       "  <thead>\n",
       "    <tr style=\"text-align: right;\">\n",
       "      <th></th>\n",
       "      <th>Texts</th>\n",
       "      <th>Labels</th>\n",
       "    </tr>\n",
       "  </thead>\n",
       "  <tbody>\n",
       "    <tr>\n",
       "      <th>0</th>\n",
       "      <td>seen before from Murphy</td>\n",
       "      <td>0</td>\n",
       "    </tr>\n",
       "    <tr>\n",
       "      <th>1</th>\n",
       "      <td>exoticism</td>\n",
       "      <td>0</td>\n",
       "    </tr>\n",
       "    <tr>\n",
       "      <th>2</th>\n",
       "      <td>of the script</td>\n",
       "      <td>0</td>\n",
       "    </tr>\n",
       "    <tr>\n",
       "      <th>3</th>\n",
       "      <td>I had expected</td>\n",
       "      <td>0</td>\n",
       "    </tr>\n",
       "    <tr>\n",
       "      <th>4</th>\n",
       "      <td>A standard police-oriented drama that , were i...</td>\n",
       "      <td>0</td>\n",
       "    </tr>\n",
       "  </tbody>\n",
       "</table>\n",
       "</div>"
      ],
      "text/plain": [
       "                                               Texts  Labels\n",
       "0                            seen before from Murphy       0\n",
       "1                                          exoticism       0\n",
       "2                                      of the script       0\n",
       "3                                     I had expected       0\n",
       "4  A standard police-oriented drama that , were i...       0"
      ]
     },
     "execution_count": 99,
     "metadata": {},
     "output_type": "execute_result"
    }
   ],
   "source": [
    "df3.head()"
   ]
  },
  {
   "cell_type": "code",
   "execution_count": 100,
   "id": "8175b984",
   "metadata": {},
   "outputs": [],
   "source": [
    "pos = []\n",
    "neg = []\n",
    "for l in df3.Labels:\n",
    "    if l == 0:\n",
    "        pos.append(0)\n",
    "        neg.append(1)\n",
    "    elif l == 4:\n",
    "        pos.append(1)\n",
    "        neg.append(0)\n"
   ]
  },
  {
   "cell_type": "code",
   "execution_count": 101,
   "id": "6bb2ff20",
   "metadata": {},
   "outputs": [],
   "source": [
    "df3['Pos']= pos\n",
    "df3['Neg']= neg"
   ]
  },
  {
   "cell_type": "code",
   "execution_count": 102,
   "id": "cdcc917c",
   "metadata": {
    "scrolled": true
   },
   "outputs": [
    {
     "data": {
      "text/html": [
       "<div>\n",
       "<style scoped>\n",
       "    .dataframe tbody tr th:only-of-type {\n",
       "        vertical-align: middle;\n",
       "    }\n",
       "\n",
       "    .dataframe tbody tr th {\n",
       "        vertical-align: top;\n",
       "    }\n",
       "\n",
       "    .dataframe thead th {\n",
       "        text-align: right;\n",
       "    }\n",
       "</style>\n",
       "<table border=\"1\" class=\"dataframe\">\n",
       "  <thead>\n",
       "    <tr style=\"text-align: right;\">\n",
       "      <th></th>\n",
       "      <th>Texts</th>\n",
       "      <th>Labels</th>\n",
       "      <th>Pos</th>\n",
       "      <th>Neg</th>\n",
       "    </tr>\n",
       "  </thead>\n",
       "  <tbody>\n",
       "    <tr>\n",
       "      <th>0</th>\n",
       "      <td>seen before from Murphy</td>\n",
       "      <td>0</td>\n",
       "      <td>0</td>\n",
       "      <td>1</td>\n",
       "    </tr>\n",
       "    <tr>\n",
       "      <th>1</th>\n",
       "      <td>exoticism</td>\n",
       "      <td>0</td>\n",
       "      <td>0</td>\n",
       "      <td>1</td>\n",
       "    </tr>\n",
       "    <tr>\n",
       "      <th>2</th>\n",
       "      <td>of the script</td>\n",
       "      <td>0</td>\n",
       "      <td>0</td>\n",
       "      <td>1</td>\n",
       "    </tr>\n",
       "    <tr>\n",
       "      <th>3</th>\n",
       "      <td>I had expected</td>\n",
       "      <td>0</td>\n",
       "      <td>0</td>\n",
       "      <td>1</td>\n",
       "    </tr>\n",
       "    <tr>\n",
       "      <th>4</th>\n",
       "      <td>A standard police-oriented drama that , were i...</td>\n",
       "      <td>0</td>\n",
       "      <td>0</td>\n",
       "      <td>1</td>\n",
       "    </tr>\n",
       "  </tbody>\n",
       "</table>\n",
       "</div>"
      ],
      "text/plain": [
       "                                               Texts  Labels  Pos  Neg\n",
       "0                            seen before from Murphy       0    0    1\n",
       "1                                          exoticism       0    0    1\n",
       "2                                      of the script       0    0    1\n",
       "3                                     I had expected       0    0    1\n",
       "4  A standard police-oriented drama that , were i...       0    0    1"
      ]
     },
     "execution_count": 102,
     "metadata": {},
     "output_type": "execute_result"
    }
   ],
   "source": [
    "df3.head()"
   ]
  },
  {
   "cell_type": "code",
   "execution_count": 103,
   "id": "99f72fb7",
   "metadata": {},
   "outputs": [],
   "source": [
    "def remove_punct(text):\n",
    "    text_nopunct = ''\n",
    "    text_nopunct = re.sub('['+string.punctuation+']', '', text)\n",
    "    return text_nopunct\n",
    "\n",
    "df3['Texts_Clean'] = df3['Texts'].apply(lambda x: remove_punct(x))"
   ]
  },
  {
   "cell_type": "code",
   "execution_count": 104,
   "id": "480ebe1e",
   "metadata": {},
   "outputs": [],
   "source": [
    "tokens = [word_tokenize(sen) for sen in df3.Texts_Clean] \n",
    "\n",
    "def lower_token(tokens): \n",
    "    return [w.lower() for w in tokens]    \n",
    "    \n",
    "lower_tokens = [lower_token(token) for token in tokens] "
   ]
  },
  {
   "cell_type": "code",
   "execution_count": 105,
   "id": "ad6fe3ff",
   "metadata": {},
   "outputs": [],
   "source": [
    "stopwords_english = stopwords.words('english')\n",
    "def remove_stop_words(tokens): \n",
    "    return [word for word in tokens if word not in stopwords_english]"
   ]
  },
  {
   "cell_type": "code",
   "execution_count": 106,
   "id": "e24ecb03",
   "metadata": {},
   "outputs": [],
   "source": [
    "filtered_words = [remove_stop_words(sen) for sen in lower_tokens] \n",
    "df3['Tokens'] = filtered_words"
   ]
  },
  {
   "cell_type": "code",
   "execution_count": 107,
   "id": "973f712d",
   "metadata": {},
   "outputs": [],
   "source": [
    "df3['Texts_final'] = [' '.join(sen) for sen in filtered_words] "
   ]
  },
  {
   "cell_type": "code",
   "execution_count": 108,
   "id": "ba642385",
   "metadata": {},
   "outputs": [],
   "source": [
    "df_cnn_train = df3[['Texts_final','Tokens','Labels','Pos','Neg']]"
   ]
  },
  {
   "cell_type": "code",
   "execution_count": 109,
   "id": "c5401393",
   "metadata": {},
   "outputs": [
    {
     "data": {
      "text/html": [
       "<div>\n",
       "<style scoped>\n",
       "    .dataframe tbody tr th:only-of-type {\n",
       "        vertical-align: middle;\n",
       "    }\n",
       "\n",
       "    .dataframe tbody tr th {\n",
       "        vertical-align: top;\n",
       "    }\n",
       "\n",
       "    .dataframe thead th {\n",
       "        text-align: right;\n",
       "    }\n",
       "</style>\n",
       "<table border=\"1\" class=\"dataframe\">\n",
       "  <thead>\n",
       "    <tr style=\"text-align: right;\">\n",
       "      <th></th>\n",
       "      <th>Texts_final</th>\n",
       "      <th>Tokens</th>\n",
       "      <th>Labels</th>\n",
       "      <th>Pos</th>\n",
       "      <th>Neg</th>\n",
       "    </tr>\n",
       "  </thead>\n",
       "  <tbody>\n",
       "    <tr>\n",
       "      <th>0</th>\n",
       "      <td>seen murphy</td>\n",
       "      <td>[seen, murphy]</td>\n",
       "      <td>0</td>\n",
       "      <td>0</td>\n",
       "      <td>1</td>\n",
       "    </tr>\n",
       "    <tr>\n",
       "      <th>1</th>\n",
       "      <td>exoticism</td>\n",
       "      <td>[exoticism]</td>\n",
       "      <td>0</td>\n",
       "      <td>0</td>\n",
       "      <td>1</td>\n",
       "    </tr>\n",
       "    <tr>\n",
       "      <th>2</th>\n",
       "      <td>script</td>\n",
       "      <td>[script]</td>\n",
       "      <td>0</td>\n",
       "      <td>0</td>\n",
       "      <td>1</td>\n",
       "    </tr>\n",
       "    <tr>\n",
       "      <th>3</th>\n",
       "      <td>expected</td>\n",
       "      <td>[expected]</td>\n",
       "      <td>0</td>\n",
       "      <td>0</td>\n",
       "      <td>1</td>\n",
       "    </tr>\n",
       "    <tr>\n",
       "      <th>4</th>\n",
       "      <td>standard policeoriented drama de niro particip...</td>\n",
       "      <td>[standard, policeoriented, drama, de, niro, pa...</td>\n",
       "      <td>0</td>\n",
       "      <td>0</td>\n",
       "      <td>1</td>\n",
       "    </tr>\n",
       "  </tbody>\n",
       "</table>\n",
       "</div>"
      ],
      "text/plain": [
       "                                         Texts_final  \\\n",
       "0                                        seen murphy   \n",
       "1                                          exoticism   \n",
       "2                                             script   \n",
       "3                                           expected   \n",
       "4  standard policeoriented drama de niro particip...   \n",
       "\n",
       "                                              Tokens  Labels  Pos  Neg  \n",
       "0                                     [seen, murphy]       0    0    1  \n",
       "1                                        [exoticism]       0    0    1  \n",
       "2                                           [script]       0    0    1  \n",
       "3                                         [expected]       0    0    1  \n",
       "4  [standard, policeoriented, drama, de, niro, pa...       0    0    1  "
      ]
     },
     "execution_count": 109,
     "metadata": {},
     "output_type": "execute_result"
    }
   ],
   "source": [
    "df_cnn_train.head()"
   ]
  },
  {
   "cell_type": "code",
   "execution_count": 110,
   "id": "c11b5ee4",
   "metadata": {},
   "outputs": [
    {
     "name": "stdout",
     "output_type": "stream",
     "text": [
      "518440 words total, with a vocabulary size of 16270\n",
      "Max sentence length is 30\n"
     ]
    }
   ],
   "source": [
    "all_training_words = [word for tokens in df_cnn_train[\"Tokens\"] for word in tokens]\n",
    "training_sentence_lengths = [len(tokens) for tokens in df_cnn_train[\"Tokens\"]]\n",
    "TRAINING_VOCAB = sorted(list(set(all_training_words)))\n",
    "print(\"%s words total, with a vocabulary size of %s\" % (len(all_training_words), len(TRAINING_VOCAB)))\n",
    "print(\"Max sentence length is %s\" % max(training_sentence_lengths))"
   ]
  },
  {
   "cell_type": "code",
   "execution_count": 67,
   "id": "34045b98",
   "metadata": {},
   "outputs": [],
   "source": [
    "from keras.preprocessing.text import Tokenizer\n",
    "from keras.preprocessing.sequence import pad_sequences\n",
    "from keras.utils import to_categorical"
   ]
  },
  {
   "cell_type": "code",
   "execution_count": 64,
   "id": "5c2ad242",
   "metadata": {},
   "outputs": [],
   "source": [
    "import gensim\n",
    "from gensim.models import Word2Vec\n",
    "from gensim.utils import simple_preprocess\n",
    "from gensim.models.keyedvectors import KeyedVectors"
   ]
  },
  {
   "cell_type": "code",
   "execution_count": 111,
   "id": "9b2b5f9b",
   "metadata": {
    "scrolled": true
   },
   "outputs": [
    {
     "name": "stdout",
     "output_type": "stream",
     "text": [
      "Requirement already satisfied: gensim in /Users/liuyu/opt/anaconda3/envs/py_3_9_7/lib/python3.9/site-packages (4.1.2)\n",
      "Requirement already satisfied: scipy>=0.18.1 in /Users/liuyu/opt/anaconda3/envs/py_3_9_7/lib/python3.9/site-packages (from gensim) (1.6.2)\n",
      "Requirement already satisfied: numpy>=1.17.0 in /Users/liuyu/opt/anaconda3/envs/py_3_9_7/lib/python3.9/site-packages (from gensim) (1.19.2)\n",
      "Requirement already satisfied: smart-open>=1.8.1 in /Users/liuyu/opt/anaconda3/envs/py_3_9_7/lib/python3.9/site-packages (from gensim) (5.1.0)\n",
      "Note: you may need to restart the kernel to use updated packages.\n"
     ]
    }
   ],
   "source": [
    "pip install -U gensim"
   ]
  },
  {
   "cell_type": "code",
   "execution_count": 58,
   "id": "7a22dea0",
   "metadata": {},
   "outputs": [],
   "source": [
    "from gensim import models"
   ]
  },
  {
   "cell_type": "code",
   "execution_count": 59,
   "id": "0e9beb96",
   "metadata": {},
   "outputs": [],
   "source": [
    "from gensim.models import Word2Vec"
   ]
  },
  {
   "cell_type": "code",
   "execution_count": 60,
   "id": "f70d0330",
   "metadata": {},
   "outputs": [],
   "source": [
    "from gensim.models.keyedvectors import KeyedVectors"
   ]
  },
  {
   "cell_type": "code",
   "execution_count": 115,
   "id": "683fb67c",
   "metadata": {
    "scrolled": false
   },
   "outputs": [
    {
     "name": "stdout",
     "output_type": "stream",
     "text": [
      "/Users/liuyu/gensim-data/word2vec-google-news-300/word2vec-google-news-300.gz\n"
     ]
    }
   ],
   "source": [
    "import gensim.downloader as api\n",
    "path = api.load(\"word2vec-google-news-300\", return_path=True)\n",
    "print(path)"
   ]
  },
  {
   "cell_type": "code",
   "execution_count": 116,
   "id": "4a43935c",
   "metadata": {},
   "outputs": [],
   "source": [
    "word2vec_path = path"
   ]
  },
  {
   "cell_type": "code",
   "execution_count": 61,
   "id": "c0aec985",
   "metadata": {
    "scrolled": false
   },
   "outputs": [
    {
     "ename": "FileNotFoundError",
     "evalue": "[Errno 2] No such file or directory: '/Users/liuyu/.keras/datasets/news20.tar.gz'",
     "output_type": "error",
     "traceback": [
      "\u001b[0;31m---------------------------------------------------------------------------\u001b[0m",
      "\u001b[0;31mFileNotFoundError\u001b[0m                         Traceback (most recent call last)",
      "Input \u001b[0;32mIn [61]\u001b[0m, in \u001b[0;36m<cell line: 1>\u001b[0;34m()\u001b[0m\n\u001b[0;32m----> 1\u001b[0m word2vec \u001b[38;5;241m=\u001b[39m \u001b[43mmodels\u001b[49m\u001b[38;5;241;43m.\u001b[39;49m\u001b[43mKeyedVectors\u001b[49m\u001b[38;5;241;43m.\u001b[39;49m\u001b[43mload_word2vec_format\u001b[49m\u001b[43m(\u001b[49m\u001b[43mword2vec_path\u001b[49m\u001b[43m,\u001b[49m\u001b[43m \u001b[49m\u001b[43mbinary\u001b[49m\u001b[38;5;241;43m=\u001b[39;49m\u001b[38;5;28;43;01mTrue\u001b[39;49;00m\u001b[43m)\u001b[49m\n",
      "File \u001b[0;32m~/opt/anaconda3/envs/py_3_9_7/lib/python3.9/site-packages/gensim/models/keyedvectors.py:1629\u001b[0m, in \u001b[0;36mKeyedVectors.load_word2vec_format\u001b[0;34m(cls, fname, fvocab, binary, encoding, unicode_errors, limit, datatype, no_header)\u001b[0m\n\u001b[1;32m   1582\u001b[0m \u001b[38;5;129m@classmethod\u001b[39m\n\u001b[1;32m   1583\u001b[0m \u001b[38;5;28;01mdef\u001b[39;00m \u001b[38;5;21mload_word2vec_format\u001b[39m(\n\u001b[1;32m   1584\u001b[0m         \u001b[38;5;28mcls\u001b[39m, fname, fvocab\u001b[38;5;241m=\u001b[39m\u001b[38;5;28;01mNone\u001b[39;00m, binary\u001b[38;5;241m=\u001b[39m\u001b[38;5;28;01mFalse\u001b[39;00m, encoding\u001b[38;5;241m=\u001b[39m\u001b[38;5;124m'\u001b[39m\u001b[38;5;124mutf8\u001b[39m\u001b[38;5;124m'\u001b[39m, unicode_errors\u001b[38;5;241m=\u001b[39m\u001b[38;5;124m'\u001b[39m\u001b[38;5;124mstrict\u001b[39m\u001b[38;5;124m'\u001b[39m,\n\u001b[1;32m   1585\u001b[0m         limit\u001b[38;5;241m=\u001b[39m\u001b[38;5;28;01mNone\u001b[39;00m, datatype\u001b[38;5;241m=\u001b[39mREAL, no_header\u001b[38;5;241m=\u001b[39m\u001b[38;5;28;01mFalse\u001b[39;00m,\n\u001b[1;32m   1586\u001b[0m     ):\n\u001b[1;32m   1587\u001b[0m     \u001b[38;5;124;03m\"\"\"Load KeyedVectors from a file produced by the original C word2vec-tool format.\u001b[39;00m\n\u001b[1;32m   1588\u001b[0m \n\u001b[1;32m   1589\u001b[0m \u001b[38;5;124;03m    Warnings\u001b[39;00m\n\u001b[0;32m   (...)\u001b[0m\n\u001b[1;32m   1627\u001b[0m \n\u001b[1;32m   1628\u001b[0m \u001b[38;5;124;03m    \"\"\"\u001b[39;00m\n\u001b[0;32m-> 1629\u001b[0m     \u001b[38;5;28;01mreturn\u001b[39;00m \u001b[43m_load_word2vec_format\u001b[49m\u001b[43m(\u001b[49m\n\u001b[1;32m   1630\u001b[0m \u001b[43m        \u001b[49m\u001b[38;5;28;43mcls\u001b[39;49m\u001b[43m,\u001b[49m\u001b[43m \u001b[49m\u001b[43mfname\u001b[49m\u001b[43m,\u001b[49m\u001b[43m \u001b[49m\u001b[43mfvocab\u001b[49m\u001b[38;5;241;43m=\u001b[39;49m\u001b[43mfvocab\u001b[49m\u001b[43m,\u001b[49m\u001b[43m \u001b[49m\u001b[43mbinary\u001b[49m\u001b[38;5;241;43m=\u001b[39;49m\u001b[43mbinary\u001b[49m\u001b[43m,\u001b[49m\u001b[43m \u001b[49m\u001b[43mencoding\u001b[49m\u001b[38;5;241;43m=\u001b[39;49m\u001b[43mencoding\u001b[49m\u001b[43m,\u001b[49m\u001b[43m \u001b[49m\u001b[43municode_errors\u001b[49m\u001b[38;5;241;43m=\u001b[39;49m\u001b[43municode_errors\u001b[49m\u001b[43m,\u001b[49m\n\u001b[1;32m   1631\u001b[0m \u001b[43m        \u001b[49m\u001b[43mlimit\u001b[49m\u001b[38;5;241;43m=\u001b[39;49m\u001b[43mlimit\u001b[49m\u001b[43m,\u001b[49m\u001b[43m \u001b[49m\u001b[43mdatatype\u001b[49m\u001b[38;5;241;43m=\u001b[39;49m\u001b[43mdatatype\u001b[49m\u001b[43m,\u001b[49m\u001b[43m \u001b[49m\u001b[43mno_header\u001b[49m\u001b[38;5;241;43m=\u001b[39;49m\u001b[43mno_header\u001b[49m\u001b[43m,\u001b[49m\n\u001b[1;32m   1632\u001b[0m \u001b[43m    \u001b[49m\u001b[43m)\u001b[49m\n",
      "File \u001b[0;32m~/opt/anaconda3/envs/py_3_9_7/lib/python3.9/site-packages/gensim/models/keyedvectors.py:1955\u001b[0m, in \u001b[0;36m_load_word2vec_format\u001b[0;34m(cls, fname, fvocab, binary, encoding, unicode_errors, limit, datatype, no_header, binary_chunk_size)\u001b[0m\n\u001b[1;32m   1952\u001b[0m             counts[word] \u001b[38;5;241m=\u001b[39m \u001b[38;5;28mint\u001b[39m(count)\n\u001b[1;32m   1954\u001b[0m logger\u001b[38;5;241m.\u001b[39minfo(\u001b[38;5;124m\"\u001b[39m\u001b[38;5;124mloading projection weights from \u001b[39m\u001b[38;5;132;01m%s\u001b[39;00m\u001b[38;5;124m\"\u001b[39m, fname)\n\u001b[0;32m-> 1955\u001b[0m \u001b[38;5;28;01mwith\u001b[39;00m \u001b[43mutils\u001b[49m\u001b[38;5;241;43m.\u001b[39;49m\u001b[43mopen\u001b[49m\u001b[43m(\u001b[49m\u001b[43mfname\u001b[49m\u001b[43m,\u001b[49m\u001b[43m \u001b[49m\u001b[38;5;124;43m'\u001b[39;49m\u001b[38;5;124;43mrb\u001b[39;49m\u001b[38;5;124;43m'\u001b[39;49m\u001b[43m)\u001b[49m \u001b[38;5;28;01mas\u001b[39;00m fin:\n\u001b[1;32m   1956\u001b[0m     \u001b[38;5;28;01mif\u001b[39;00m no_header:\n\u001b[1;32m   1957\u001b[0m         \u001b[38;5;66;03m# deduce both vocab_size & vector_size from 1st pass over file\u001b[39;00m\n\u001b[1;32m   1958\u001b[0m         \u001b[38;5;28;01mif\u001b[39;00m binary:\n",
      "File \u001b[0;32m~/opt/anaconda3/envs/py_3_9_7/lib/python3.9/site-packages/smart_open/smart_open_lib.py:235\u001b[0m, in \u001b[0;36mopen\u001b[0;34m(uri, mode, buffering, encoding, errors, newline, closefd, opener, ignore_ext, compression, transport_params)\u001b[0m\n\u001b[1;32m    232\u001b[0m \u001b[38;5;28;01mexcept\u001b[39;00m \u001b[38;5;167;01mValueError\u001b[39;00m \u001b[38;5;28;01mas\u001b[39;00m ve:\n\u001b[1;32m    233\u001b[0m     \u001b[38;5;28;01mraise\u001b[39;00m \u001b[38;5;167;01mNotImplementedError\u001b[39;00m(ve\u001b[38;5;241m.\u001b[39margs[\u001b[38;5;241m0\u001b[39m])\n\u001b[0;32m--> 235\u001b[0m binary \u001b[38;5;241m=\u001b[39m \u001b[43m_open_binary_stream\u001b[49m\u001b[43m(\u001b[49m\u001b[43muri\u001b[49m\u001b[43m,\u001b[49m\u001b[43m \u001b[49m\u001b[43mbinary_mode\u001b[49m\u001b[43m,\u001b[49m\u001b[43m \u001b[49m\u001b[43mtransport_params\u001b[49m\u001b[43m)\u001b[49m\n\u001b[1;32m    236\u001b[0m decompressed \u001b[38;5;241m=\u001b[39m so_compression\u001b[38;5;241m.\u001b[39mcompression_wrapper(binary, binary_mode, compression)\n\u001b[1;32m    238\u001b[0m \u001b[38;5;28;01mif\u001b[39;00m \u001b[38;5;124m'\u001b[39m\u001b[38;5;124mb\u001b[39m\u001b[38;5;124m'\u001b[39m \u001b[38;5;129;01mnot\u001b[39;00m \u001b[38;5;129;01min\u001b[39;00m mode \u001b[38;5;129;01mor\u001b[39;00m explicit_encoding \u001b[38;5;129;01mis\u001b[39;00m \u001b[38;5;129;01mnot\u001b[39;00m \u001b[38;5;28;01mNone\u001b[39;00m:\n",
      "File \u001b[0;32m~/opt/anaconda3/envs/py_3_9_7/lib/python3.9/site-packages/smart_open/smart_open_lib.py:398\u001b[0m, in \u001b[0;36m_open_binary_stream\u001b[0;34m(uri, mode, transport_params)\u001b[0m\n\u001b[1;32m    396\u001b[0m scheme \u001b[38;5;241m=\u001b[39m _sniff_scheme(uri)\n\u001b[1;32m    397\u001b[0m submodule \u001b[38;5;241m=\u001b[39m transport\u001b[38;5;241m.\u001b[39mget_transport(scheme)\n\u001b[0;32m--> 398\u001b[0m fobj \u001b[38;5;241m=\u001b[39m \u001b[43msubmodule\u001b[49m\u001b[38;5;241;43m.\u001b[39;49m\u001b[43mopen_uri\u001b[49m\u001b[43m(\u001b[49m\u001b[43muri\u001b[49m\u001b[43m,\u001b[49m\u001b[43m \u001b[49m\u001b[43mmode\u001b[49m\u001b[43m,\u001b[49m\u001b[43m \u001b[49m\u001b[43mtransport_params\u001b[49m\u001b[43m)\u001b[49m\n\u001b[1;32m    399\u001b[0m \u001b[38;5;28;01mif\u001b[39;00m \u001b[38;5;129;01mnot\u001b[39;00m \u001b[38;5;28mhasattr\u001b[39m(fobj, \u001b[38;5;124m'\u001b[39m\u001b[38;5;124mname\u001b[39m\u001b[38;5;124m'\u001b[39m):\n\u001b[1;32m    400\u001b[0m     fobj\u001b[38;5;241m.\u001b[39mname \u001b[38;5;241m=\u001b[39m uri\n",
      "File \u001b[0;32m~/opt/anaconda3/envs/py_3_9_7/lib/python3.9/site-packages/smart_open/local_file.py:34\u001b[0m, in \u001b[0;36mopen_uri\u001b[0;34m(uri_as_string, mode, transport_params)\u001b[0m\n\u001b[1;32m     32\u001b[0m \u001b[38;5;28;01mdef\u001b[39;00m \u001b[38;5;21mopen_uri\u001b[39m(uri_as_string, mode, transport_params):\n\u001b[1;32m     33\u001b[0m     parsed_uri \u001b[38;5;241m=\u001b[39m parse_uri(uri_as_string)\n\u001b[0;32m---> 34\u001b[0m     fobj \u001b[38;5;241m=\u001b[39m \u001b[43mio\u001b[49m\u001b[38;5;241;43m.\u001b[39;49m\u001b[43mopen\u001b[49m\u001b[43m(\u001b[49m\u001b[43mparsed_uri\u001b[49m\u001b[43m[\u001b[49m\u001b[38;5;124;43m'\u001b[39;49m\u001b[38;5;124;43muri_path\u001b[39;49m\u001b[38;5;124;43m'\u001b[39;49m\u001b[43m]\u001b[49m\u001b[43m,\u001b[49m\u001b[43m \u001b[49m\u001b[43mmode\u001b[49m\u001b[43m)\u001b[49m\n\u001b[1;32m     35\u001b[0m     \u001b[38;5;28;01mreturn\u001b[39;00m fobj\n",
      "\u001b[0;31mFileNotFoundError\u001b[0m: [Errno 2] No such file or directory: '/Users/liuyu/.keras/datasets/news20.tar.gz'"
     ]
    }
   ],
   "source": [
    "word2vec = models.KeyedVectors.load_word2vec_format(path, binary=True)"
   ]
  },
  {
   "cell_type": "code",
   "execution_count": 118,
   "id": "25abd768",
   "metadata": {},
   "outputs": [],
   "source": [
    "def get_average_word2vec(tokens_list, vector, generate_missing=False, k=300):\n",
    "    if len(tokens_list)<1:\n",
    "        return np.zeros(k)\n",
    "    if generate_missing:\n",
    "        vectorized = [vector[word] if word in vector else np.random.rand(k) for word in tokens_list]\n",
    "    else:\n",
    "        vectorized = [vector[word] if word in vector else np.zeros(k) for word in tokens_list]\n",
    "    length = len(vectorized)\n",
    "    summed = np.sum(vectorized, axis=0)\n",
    "    averaged = np.divide(summed, length)\n",
    "    return averaged\n",
    "\n",
    "def get_word2vec_embeddings(vectors, clean_comments, generate_missing=False):\n",
    "    embeddings = clean_comments['Tokens'].apply(lambda x: get_average_word2vec(x, vectors, \n",
    "                                                                                generate_missing=generate_missing))\n",
    "    return list(embeddings)"
   ]
  },
  {
   "cell_type": "code",
   "execution_count": 119,
   "id": "b251fd7a",
   "metadata": {},
   "outputs": [],
   "source": [
    "training_embeddings = get_word2vec_embeddings(word2vec, df_cnn_train, generate_missing=True)"
   ]
  },
  {
   "cell_type": "code",
   "execution_count": 120,
   "id": "87ea2e5e",
   "metadata": {},
   "outputs": [],
   "source": [
    "MAX_SEQUENCE_LENGTH = 50\n",
    "EMBEDDING_DIM = 300"
   ]
  },
  {
   "cell_type": "code",
   "execution_count": 121,
   "id": "423068e4",
   "metadata": {},
   "outputs": [],
   "source": [
    "from keras.preprocessing.text import Tokenizer"
   ]
  },
  {
   "cell_type": "code",
   "execution_count": 122,
   "id": "07e03d51",
   "metadata": {},
   "outputs": [
    {
     "name": "stdout",
     "output_type": "stream",
     "text": [
      "Found 16236 unique tokens.\n"
     ]
    }
   ],
   "source": [
    "tokenizer = Tokenizer(num_words=len(TRAINING_VOCAB), lower=True, char_level=False)\n",
    "tokenizer.fit_on_texts(df_cnn_train[\"Texts_final\"].tolist())\n",
    "training_sequences = tokenizer.texts_to_sequences(df_cnn_train[\"Texts_final\"].tolist())\n",
    "\n",
    "train_word_index = tokenizer.word_index\n",
    "print('Found %s unique tokens.' % len(train_word_index))"
   ]
  },
  {
   "cell_type": "code",
   "execution_count": 123,
   "id": "c00070da",
   "metadata": {
    "scrolled": true
   },
   "outputs": [],
   "source": [
    "train_cnn_data = pad_sequences(training_sequences, maxlen=MAX_SEQUENCE_LENGTH)"
   ]
  },
  {
   "cell_type": "code",
   "execution_count": 124,
   "id": "a012ac8e",
   "metadata": {},
   "outputs": [
    {
     "name": "stdout",
     "output_type": "stream",
     "text": [
      "(16237, 300)\n"
     ]
    }
   ],
   "source": [
    "train_embedding_weights = np.zeros((len(train_word_index)+1, EMBEDDING_DIM))\n",
    "for word,index in train_word_index.items():\n",
    "    train_embedding_weights[index,:] = word2vec[word] if word in word2vec else np.random.rand(EMBEDDING_DIM)\n",
    "print(train_embedding_weights.shape)"
   ]
  },
  {
   "cell_type": "code",
   "execution_count": 125,
   "id": "d91fe91d",
   "metadata": {},
   "outputs": [],
   "source": [
    "test_rtmr_sequences = tokenizer.texts_to_sequences(rtmr_texts_test)\n",
    "test_rtmr_cnn_data = pad_sequences(test_rtmr_sequences, maxlen=MAX_SEQUENCE_LENGTH)"
   ]
  },
  {
   "cell_type": "code",
   "execution_count": 126,
   "id": "091d2fab",
   "metadata": {},
   "outputs": [],
   "source": [
    "test_s140_sequences = tokenizer.texts_to_sequences(s140_texts_test)\n",
    "test_s140_cnn_data = pad_sequences(test_s140_sequences, maxlen=MAX_SEQUENCE_LENGTH)"
   ]
  },
  {
   "cell_type": "code",
   "execution_count": 127,
   "id": "8796e0a3",
   "metadata": {},
   "outputs": [],
   "source": [
    "#define cnn model:\n",
    "\n",
    "def ConvNet(embeddings, max_sequence_length, num_words, embedding_dim, labels_index):\n",
    "    \n",
    "    embedding_layer = Embedding(num_words,\n",
    "                            embedding_dim,\n",
    "                            weights=[embeddings],\n",
    "                            input_length=max_sequence_length,\n",
    "                            trainable=False)\n",
    "    \n",
    "    sequence_input = Input(shape=(max_sequence_length,), dtype='int32')\n",
    "    embedded_sequences = embedding_layer(sequence_input)\n",
    "\n",
    "    convs = []\n",
    "    filter_sizes = [2,3,4,5,6]\n",
    "\n",
    "    for filter_size in filter_sizes:\n",
    "        l_conv = Conv1D(filters=200, kernel_size=filter_size, activation='relu')(embedded_sequences)\n",
    "        l_pool = GlobalMaxPooling1D()(l_conv)\n",
    "        convs.append(l_pool)\n",
    "\n",
    "\n",
    "    l_merge = concatenate(convs, axis=1)\n",
    "\n",
    "    x = Dropout(0.1)(l_merge)  \n",
    "    x = Dense(128, activation='relu')(x)\n",
    "    x = Dropout(0.2)(x)\n",
    "    preds = Dense(labels_index, activation='sigmoid')(x)\n",
    "\n",
    "    model = Model(sequence_input, preds)\n",
    "    model.compile(loss='binary_crossentropy',\n",
    "                  optimizer='adam',\n",
    "                  metrics=['acc'])\n",
    "    model.summary()\n",
    "    return model"
   ]
  },
  {
   "cell_type": "code",
   "execution_count": 128,
   "id": "3d8e6b75",
   "metadata": {},
   "outputs": [],
   "source": [
    "label_names = ['Pos', 'Neg']"
   ]
  },
  {
   "cell_type": "code",
   "execution_count": 129,
   "id": "9e56ea08",
   "metadata": {},
   "outputs": [],
   "source": [
    "y_train_val = df_cnn_train[label_names].values"
   ]
  },
  {
   "cell_type": "code",
   "execution_count": 130,
   "id": "bef6bbca",
   "metadata": {},
   "outputs": [],
   "source": [
    "x_train = train_cnn_data\n",
    "y_train = y_train_val"
   ]
  },
  {
   "cell_type": "code",
   "execution_count": 131,
   "id": "02849197",
   "metadata": {},
   "outputs": [
    {
     "name": "stderr",
     "output_type": "stream",
     "text": [
      "2022-03-18 15:57:01.795024: I tensorflow/core/platform/cpu_feature_guard.cc:142] This TensorFlow binary is optimized with oneAPI Deep Neural Network Library (oneDNN) to use the following CPU instructions in performance-critical operations:  SSE4.1 SSE4.2\n",
      "To enable them in other operations, rebuild TensorFlow with the appropriate compiler flags.\n"
     ]
    },
    {
     "name": "stdout",
     "output_type": "stream",
     "text": [
      "Model: \"model\"\n",
      "__________________________________________________________________________________________________\n",
      "Layer (type)                    Output Shape         Param #     Connected to                     \n",
      "==================================================================================================\n",
      "input_1 (InputLayer)            [(None, 50)]         0                                            \n",
      "__________________________________________________________________________________________________\n",
      "embedding (Embedding)           (None, 50, 300)      4871100     input_1[0][0]                    \n",
      "__________________________________________________________________________________________________\n",
      "conv1d (Conv1D)                 (None, 49, 200)      120200      embedding[0][0]                  \n",
      "__________________________________________________________________________________________________\n",
      "conv1d_1 (Conv1D)               (None, 48, 200)      180200      embedding[0][0]                  \n",
      "__________________________________________________________________________________________________\n",
      "conv1d_2 (Conv1D)               (None, 47, 200)      240200      embedding[0][0]                  \n",
      "__________________________________________________________________________________________________\n",
      "conv1d_3 (Conv1D)               (None, 46, 200)      300200      embedding[0][0]                  \n",
      "__________________________________________________________________________________________________\n",
      "conv1d_4 (Conv1D)               (None, 45, 200)      360200      embedding[0][0]                  \n",
      "__________________________________________________________________________________________________\n",
      "global_max_pooling1d (GlobalMax (None, 200)          0           conv1d[0][0]                     \n",
      "__________________________________________________________________________________________________\n",
      "global_max_pooling1d_1 (GlobalM (None, 200)          0           conv1d_1[0][0]                   \n",
      "__________________________________________________________________________________________________\n",
      "global_max_pooling1d_2 (GlobalM (None, 200)          0           conv1d_2[0][0]                   \n",
      "__________________________________________________________________________________________________\n",
      "global_max_pooling1d_3 (GlobalM (None, 200)          0           conv1d_3[0][0]                   \n",
      "__________________________________________________________________________________________________\n",
      "global_max_pooling1d_4 (GlobalM (None, 200)          0           conv1d_4[0][0]                   \n",
      "__________________________________________________________________________________________________\n",
      "concatenate (Concatenate)       (None, 1000)         0           global_max_pooling1d[0][0]       \n",
      "                                                                 global_max_pooling1d_1[0][0]     \n",
      "                                                                 global_max_pooling1d_2[0][0]     \n",
      "                                                                 global_max_pooling1d_3[0][0]     \n",
      "                                                                 global_max_pooling1d_4[0][0]     \n",
      "__________________________________________________________________________________________________\n",
      "dropout (Dropout)               (None, 1000)         0           concatenate[0][0]                \n",
      "__________________________________________________________________________________________________\n",
      "dense (Dense)                   (None, 128)          128128      dropout[0][0]                    \n",
      "__________________________________________________________________________________________________\n",
      "dropout_1 (Dropout)             (None, 128)          0           dense[0][0]                      \n",
      "__________________________________________________________________________________________________\n",
      "dense_1 (Dense)                 (None, 2)            258         dropout_1[0][0]                  \n",
      "==================================================================================================\n",
      "Total params: 6,200,486\n",
      "Trainable params: 1,329,386\n",
      "Non-trainable params: 4,871,100\n",
      "__________________________________________________________________________________________________\n"
     ]
    }
   ],
   "source": [
    "model = ConvNet(train_embedding_weights, MAX_SEQUENCE_LENGTH, len(train_word_index)+1, EMBEDDING_DIM, \n",
    "                len(list(label_names)))"
   ]
  },
  {
   "cell_type": "code",
   "execution_count": 150,
   "id": "4b453b30",
   "metadata": {},
   "outputs": [],
   "source": [
    "num_epochs = 3\n",
    "batch_size = 300"
   ]
  },
  {
   "cell_type": "code",
   "execution_count": 151,
   "id": "2e0bc944",
   "metadata": {},
   "outputs": [
    {
     "name": "stdout",
     "output_type": "stream",
     "text": [
      "Epoch 1/3\n",
      "395/395 [==============================] - 736s 2s/step - loss: 0.5151 - acc: 0.7118 - val_loss: 0.7590 - val_acc: 0.6983\n",
      "Epoch 2/3\n",
      "395/395 [==============================] - 673s 2s/step - loss: 0.4937 - acc: 0.7288 - val_loss: 0.7938 - val_acc: 0.6673\n",
      "Epoch 3/3\n",
      "395/395 [==============================] - 706s 2s/step - loss: 0.4795 - acc: 0.7371 - val_loss: 0.8377 - val_acc: 0.6533\n"
     ]
    }
   ],
   "source": [
    "hist = model.fit(x_train, y_train, epochs=num_epochs, validation_split=0.1, shuffle=True, batch_size=batch_size)"
   ]
  },
  {
   "cell_type": "code",
   "execution_count": 145,
   "id": "21b4f8ff",
   "metadata": {},
   "outputs": [
    {
     "name": "stdout",
     "output_type": "stream",
     "text": [
      "205/205 [==============================] - 20s 96ms/step\n"
     ]
    }
   ],
   "source": [
    "predict_cnn_1 = model.predict(test_rtmr_cnn_data, batch_size = 34, verbose = 1)"
   ]
  },
  {
   "cell_type": "code",
   "execution_count": 146,
   "id": "b5e314da",
   "metadata": {},
   "outputs": [],
   "source": [
    "labels = [1, 0]"
   ]
  },
  {
   "cell_type": "code",
   "execution_count": 147,
   "id": "08e17a1c",
   "metadata": {},
   "outputs": [],
   "source": [
    "predict_cnn1_labels=[]\n",
    "for p in predict_cnn_1:\n",
    "    predict_cnn1_labels.append(labels[np.argmax(p)])"
   ]
  },
  {
   "cell_type": "code",
   "execution_count": 148,
   "id": "16720dab",
   "metadata": {},
   "outputs": [
    {
     "name": "stdout",
     "output_type": "stream",
     "text": [
      "Predicted: [0, 0, 0, 0, 0, 0, 0, 0, 0, 0]\n",
      "Ground truth: [4, 0, 0, 0, 0, 0, 0, 4, 4, 0]\n"
     ]
    }
   ],
   "source": [
    "print(\"Predicted:\",predict_cnn1_labels[0:10]) # Print the first 10 predictions\n",
    "print(\"Ground truth:\",rtmr_labels_test[0:10]) # Print the first 10 ground truth values"
   ]
  },
  {
   "cell_type": "code",
   "execution_count": 149,
   "id": "f2b928d4",
   "metadata": {},
   "outputs": [
    {
     "data": {
      "image/png": "[encoded data removed]",
      "text/plain": [
       "<Figure size 432x288 with 2 Axes>"
      ]
     },
     "metadata": {},
     "output_type": "display_data"
    },
    {
     "name": "stdout",
     "output_type": "stream",
     "text": [
      "Accuracy:\t0.721137\n",
      "F1-score:\t0.418989\n",
      "Precision:\t0.360569\n",
      "Recall:\t\t0.500000\n",
      "\n",
      "Classification performance:\n",
      "              precision    recall  f1-score   support\n",
      "\n",
      "           0       0.72      1.00      0.84      5022\n",
      "           4       0.00      0.00      0.00      1942\n",
      "\n",
      "    accuracy                           0.72      6964\n",
      "   macro avg       0.36      0.50      0.42      6964\n",
      "weighted avg       0.52      0.72      0.60      6964\n",
      "\n"
     ]
    },
    {
     "name": "stderr",
     "output_type": "stream",
     "text": [
      "/Users/liuyu/opt/anaconda3/envs/py_3_9_7/lib/python3.9/site-packages/sklearn/metrics/_classification.py:1318: UndefinedMetricWarning: Precision is ill-defined and being set to 0.0 in labels with no predicted samples. Use `zero_division` parameter to control this behavior.\n",
      "  _warn_prf(average, modifier, msg_start, len(result))\n",
      "/Users/liuyu/opt/anaconda3/envs/py_3_9_7/lib/python3.9/site-packages/sklearn/metrics/_classification.py:1318: UndefinedMetricWarning: Precision and F-score are ill-defined and being set to 0.0 in labels with no predicted samples. Use `zero_division` parameter to control this behavior.\n",
      "  _warn_prf(average, modifier, msg_start, len(result))\n",
      "/Users/liuyu/opt/anaconda3/envs/py_3_9_7/lib/python3.9/site-packages/sklearn/metrics/_classification.py:1318: UndefinedMetricWarning: Precision and F-score are ill-defined and being set to 0.0 in labels with no predicted samples. Use `zero_division` parameter to control this behavior.\n",
      "  _warn_prf(average, modifier, msg_start, len(result))\n",
      "/Users/liuyu/opt/anaconda3/envs/py_3_9_7/lib/python3.9/site-packages/sklearn/metrics/_classification.py:1318: UndefinedMetricWarning: Precision and F-score are ill-defined and being set to 0.0 in labels with no predicted samples. Use `zero_division` parameter to control this behavior.\n",
      "  _warn_prf(average, modifier, msg_start, len(result))\n"
     ]
    }
   ],
   "source": [
    "mat = confusion_matrix(rtmr_labels_test, predict_cnn1_labels)\n",
    "sns.heatmap(mat.T, square = True, annot=True, fmt = \"d\")\n",
    "plt.xlabel(\"True label\")\n",
    "plt.ylabel(\"Predicted label\")\n",
    "plt.show()\n",
    "# Compute and print classification performance metrics\n",
    "print(\"Accuracy:\\t%f\" % accuracy_score(rtmr_labels_test, predict_cnn1_labels))\n",
    "print(\"F1-score:\\t%f\" % f1_score(rtmr_labels_test, predict_cnn1_labels, average='macro'))\n",
    "print(\"Precision:\\t%f\" % precision_score(rtmr_labels_test, predict_cnn1_labels, average='macro'))\n",
    "print(\"Recall:\\t\\t%f\" % recall_score(rtmr_labels_test, predict_cnn1_labels, average='macro'))\n",
    "print(\"\\nClassification performance:\\n%s\" % classification_report(rtmr_labels_test, predict_cnn1_labels))"
   ]
  },
  {
   "cell_type": "code",
   "execution_count": 143,
   "id": "edbb668b",
   "metadata": {},
   "outputs": [
    {
     "name": "stdout",
     "output_type": "stream",
     "text": [
      "15/15 [==============================] - 1s 99ms/step\n"
     ]
    }
   ],
   "source": [
    "predict_cnn_2 = model.predict(test_s140_cnn_data, batch_size = 34, verbose = 1)"
   ]
  },
  {
   "cell_type": "code",
   "execution_count": 153,
   "id": "fb6a4906",
   "metadata": {},
   "outputs": [],
   "source": [
    "predict_cnn2_labels=[]\n",
    "for p in predict_cnn_2:\n",
    "    predict_cnn2_labels.append(labels[np.argmax(p)])"
   ]
  },
  {
   "cell_type": "code",
   "execution_count": 154,
   "id": "93d5d231",
   "metadata": {},
   "outputs": [
    {
     "data": {
      "image/png": "[encoded data removed]",
      "text/plain": [
       "<Figure size 432x288 with 2 Axes>"
      ]
     },
     "metadata": {},
     "output_type": "display_data"
    },
    {
     "name": "stdout",
     "output_type": "stream",
     "text": [
      "Accuracy:\t0.721137\n",
      "F1-score:\t0.418989\n",
      "Precision:\t0.360569\n",
      "Recall:\t\t0.500000\n",
      "\n",
      "Classification performance:\n",
      "              precision    recall  f1-score   support\n",
      "\n",
      "           0       0.72      1.00      0.84      5022\n",
      "           4       0.00      0.00      0.00      1942\n",
      "\n",
      "    accuracy                           0.72      6964\n",
      "   macro avg       0.36      0.50      0.42      6964\n",
      "weighted avg       0.52      0.72      0.60      6964\n",
      "\n"
     ]
    },
    {
     "name": "stderr",
     "output_type": "stream",
     "text": [
      "/Users/liuyu/opt/anaconda3/envs/py_3_9_7/lib/python3.9/site-packages/sklearn/metrics/_classification.py:1318: UndefinedMetricWarning: Precision is ill-defined and being set to 0.0 in labels with no predicted samples. Use `zero_division` parameter to control this behavior.\n",
      "  _warn_prf(average, modifier, msg_start, len(result))\n",
      "/Users/liuyu/opt/anaconda3/envs/py_3_9_7/lib/python3.9/site-packages/sklearn/metrics/_classification.py:1318: UndefinedMetricWarning: Precision and F-score are ill-defined and being set to 0.0 in labels with no predicted samples. Use `zero_division` parameter to control this behavior.\n",
      "  _warn_prf(average, modifier, msg_start, len(result))\n",
      "/Users/liuyu/opt/anaconda3/envs/py_3_9_7/lib/python3.9/site-packages/sklearn/metrics/_classification.py:1318: UndefinedMetricWarning: Precision and F-score are ill-defined and being set to 0.0 in labels with no predicted samples. Use `zero_division` parameter to control this behavior.\n",
      "  _warn_prf(average, modifier, msg_start, len(result))\n",
      "/Users/liuyu/opt/anaconda3/envs/py_3_9_7/lib/python3.9/site-packages/sklearn/metrics/_classification.py:1318: UndefinedMetricWarning: Precision and F-score are ill-defined and being set to 0.0 in labels with no predicted samples. Use `zero_division` parameter to control this behavior.\n",
      "  _warn_prf(average, modifier, msg_start, len(result))\n"
     ]
    }
   ],
   "source": [
    "mat = confusion_matrix(s140_labels_test, predict_cnn2_labels)\n",
    "sns.heatmap(mat.T, square = True, annot=True, fmt = \"d\")\n",
    "plt.xlabel(\"True label\")\n",
    "plt.ylabel(\"Predicted label\")\n",
    "plt.show()\n",
    "# Compute and print classification performance metrics\n",
    "print(\"Accuracy:\\t%f\" % accuracy_score(rtmr_labels_test, predict_cnn1_labels))\n",
    "print(\"F1-score:\\t%f\" % f1_score(rtmr_labels_test, predict_cnn1_labels, average='macro'))\n",
    "print(\"Precision:\\t%f\" % precision_score(rtmr_labels_test, predict_cnn1_labels, average='macro'))\n",
    "print(\"Recall:\\t\\t%f\" % recall_score(rtmr_labels_test, predict_cnn1_labels, average='macro'))\n",
    "print(\"\\nClassification performance:\\n%s\" % classification_report(rtmr_labels_test, predict_cnn1_labels))"
   ]
  },
  {
   "cell_type": "code",
   "execution_count": 2,
   "id": "9f75b74e",
   "metadata": {
    "scrolled": true
   },
   "outputs": [
    {
     "name": "stderr",
     "output_type": "stream",
     "text": [
      "/Users/liuyu/opt/anaconda3/envs/py_3_9_7/lib/python3.9/site-packages/tqdm/auto.py:22: TqdmWarning: IProgress not found. Please update jupyter and ipywidgets. See https://ipywidgets.readthedocs.io/en/stable/user_install.html\n",
      "  from .autonotebook import tqdm as notebook_tqdm\n"
     ]
    }
   ],
   "source": [
    "from torchtext import data"
   ]
  },
  {
   "cell_type": "code",
   "execution_count": 45,
   "id": "505af6a0",
   "metadata": {},
   "outputs": [],
   "source": [
    "!python -m spacy download en"
   ]
  },
  {
   "cell_type": "code",
   "execution_count": 1,
   "id": "42e5fd8d",
   "metadata": {},
   "outputs": [
    {
     "name": "stdout",
     "output_type": "stream",
     "text": [
      "Collecting package metadata (current_repodata.json): done\n",
      "Solving environment: done\n",
      "\n",
      "\n",
      "==> WARNING: A newer version of conda exists. <==\n",
      "  current version: 4.11.0\n",
      "  latest version: 4.12.0\n",
      "\n",
      "Please update conda by running\n",
      "\n",
      "    $ conda update -n base -c defaults conda\n",
      "\n",
      "\n",
      "\n",
      "## Package Plan ##\n",
      "\n",
      "  environment location: /Users/liuyu/opt/anaconda3/envs/py_3_9_7\n",
      "\n",
      "  added / updated specs:\n",
      "    - spacy-model-en_core_web_sm\n",
      "\n",
      "\n",
      "The following packages will be downloaded:\n",
      "\n",
      "    package                    |            build\n",
      "    ---------------------------|-----------------\n",
      "    spacy-model-en_core_web_sm-3.2.0|     pyhd8ed1ab_0        13.6 MB  conda-forge\n",
      "    ------------------------------------------------------------\n",
      "                                           Total:        13.6 MB\n",
      "\n",
      "The following NEW packages will be INSTALLED:\n",
      "\n",
      "  spacy-model-en_co~ conda-forge/noarch::spacy-model-en_core_web_sm-3.2.0-pyhd8ed1ab_0\n",
      "\n",
      "The following packages will be SUPERSEDED by a higher-priority channel:\n",
      "\n",
      "  ca-certificates    pkgs/main::ca-certificates-2022.2.1-h~ --> conda-forge::ca-certificates-2021.10.8-h033912b_0\n",
      "  certifi            pkgs/main::certifi-2021.10.8-py39hecd~ --> conda-forge::certifi-2021.10.8-py39h6e9494a_1\n",
      "  openssl              pkgs/main::openssl-1.1.1m-hca72f7f_0 --> conda-forge::openssl-1.1.1l-h0d85af4_0\n",
      "\n",
      "\n",
      "\n",
      "Downloading and Extracting Packages\n",
      "spacy-model-en_core_ | 13.6 MB   | ##################################### | 100% \n",
      "Preparing transaction: done\n",
      "Verifying transaction: done\n",
      "Executing transaction: done\n",
      "\n",
      "Note: you may need to restart the kernel to use updated packages.\n"
     ]
    }
   ],
   "source": [
    "conda install -c conda-forge spacy-model-en_core_web_sm"
   ]
  },
  {
   "cell_type": "code",
   "execution_count": null,
   "id": "2ed9c7c4",
   "metadata": {},
   "outputs": [],
   "source": []
  },
  {
   "cell_type": "code",
   "execution_count": 160,
   "id": "7d7ea8db",
   "metadata": {},
   "outputs": [
    {
     "name": "stdout",
     "output_type": "stream",
     "text": [
      "Counter({0: 93518, 4: 37990})\n"
     ]
    }
   ],
   "source": [
    "\n"
   ]
  }
 ],
 "metadata": {
  "kernelspec": {
   "display_name": "Python 3 (ipykernel)",
   "language": "python",
   "name": "python3"
  },
  "language_info": {
   "codemirror_mode": {
    "name": "ipython",
    "version": 3
   },
   "file_extension": ".py",
   "mimetype": "text/x-python",
   "name": "python",
   "nbconvert_exporter": "python",
   "pygments_lexer": "ipython3",
   "version": "3.9.7"
  }
 },
 "nbformat": 4,
 "nbformat_minor": 5
}
